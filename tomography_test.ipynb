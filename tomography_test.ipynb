{
 "cells": [
  {
   "cell_type": "markdown",
   "metadata": {},
   "source": [
    "# CS269Q Tomography Debugger Project\n",
    "State tomography involves measuring a quantum state repeatedly in the bases given by `itertools.product(['X', 'Y', 'Z], repeat=n_qubits)`. From these measurements, we can reconstruct a density matrix $\\rho$. In this project we set out to create a debugging tool to perform state tomography. This project had two parts. The first was constructing a debuggin interface. We decided that our debugger would take the form of a function that could be called on a program and a list of qubits, and would then run tomography algorithms and output a density matrix. The second was choosing an appropriate advanced algorithm to perform state tomography. Since both linear inversion and MLE had already been implemented in the forest benchmarking tomography file (and since Bayesian estimates are apparently \"formidable\" for quantum states!), we decided to go with matrix completion/compressed sensing methods."
   ]
  },
  {
   "cell_type": "markdown",
   "metadata": {},
   "source": [
    "# Relevant Papers & Resources:\n",
    "\n",
    "[Final Project Instructions](https://cs269q.stanford.edu/hw_and_proj/final_project.pdf)\n",
    "\n",
    "[Ultra jank state tomography from lecture 6](https://cs269q.stanford.edu/lectures/lecture6.pdf)\n",
    "\n",
    "[Quantum state tomography via compressed sensing](https://arxiv.org/pdf/0909.3304.pdf)\n",
    "\n",
    "[NMR Techniques for Quantum Control and Computation](https://arxiv.org/pdf/quant-ph/0404064.pdf)\n",
    "\n",
    "[Efficient quantum state tomography](https://www.nature.com/articles/ncomms1147.pdf)\n",
    "\n",
    "[Quantum Tomography via Compressed Sensing: Error Bounds, Sample Complexity, and Efficient Estimators](https://arxiv.org/pdf/1205.2300.pdf)\n",
    "\n",
    "[Quantum Tomography Wikipedia](https://en.wikipedia.org/wiki/Quantum_tomography#Linear_inversion)\n",
    "\n",
    "[Forest Benchmarking tomograph.py](https://github.com/rigetti/forest-benchmarking/blob/master/forest/benchmarking/tomography.py)\n",
    "\n",
    "[PyQuil operator-estimation.py](https://github.com/rigetti/pyquil/blob/master/pyquil/operator_estimation.py)\n",
    "\n",
    "[Initialization and characterization of open quantum systems](https://uwspace.uwaterloo.ca/bitstream/handle/10012/9557/wood_christopher.pdf?sequence=3&isAllowed=y) (section 3.4)\n"
   ]
  },
  {
   "cell_type": "markdown",
   "metadata": {},
   "source": [
    "## TO DO:\n",
    "\n",
    "<input type=\"checkbox\"> Get basic debugging function working with linear inversion\n",
    "\n",
    "<input type=\"checkbox\"> Make sure we have the most recent version of forest sdk - seems like files on github are different from the sdk we have!\n",
    "\n",
    "<input type=\"checkbox\"> Program the compressed sensing algorithm from [Quantum state tomography via compressed sensing](https://arxiv.org/pdf/0909.3304.pdf)\n",
    "\n",
    "<input type=\"checkbox\"> Decide if we want to program a second tomography algorithm\n",
    "\n",
    "<input type=\"checkbox\"> Figure out exactly how the debugger will work! Will it just be a function?\n",
    "\n",
    "<input type=\"checkbox\"> Profile the characteristics of our tomography debugger when faced with noise!\n",
    "\n",
    "<input type=\"checkbox\"> Change the debugger class to take a qc as an input? Then it can run any program that is given to it on a qvm or a qpu (which is desired functionality!)\n",
    "\n",
    "<input type=\"checkbox\"> Write final report"
   ]
  },
  {
   "cell_type": "code",
   "execution_count": 1,
   "metadata": {},
   "outputs": [],
   "source": [
    "import numpy as np\n",
    "import imp\n",
    "from pyquil import Program, get_qc\n",
    "from pyquil.gates import *\n",
    "from forest.benchmarking.tomography import *\n",
    "from pyquil.operator_estimation import *\n",
    "from forest.benchmarking.compilation import basic_compile\n",
    "from scipy.optimize import minimize\n",
    "import random\n",
    "\n",
    "from typing import Union, List\n",
    "\n",
    "from pyquil.gate_matrices import SWAP, QUANTUM_GATES, STATES\n",
    "from pyquil.operator_estimation import TensorProductState\n",
    "from pyquil.paulis import PauliSum, PauliTerm\n",
    "from pyquil.quilbase import Gate\n",
    "\n",
    "import cvxpy as cp\n",
    "\n",
    "from pyquil.operator_estimation import TomographyExperiment as PyQuilTomographyExperiment"
   ]
  },
  {
   "cell_type": "markdown",
   "metadata": {},
   "source": [
    "## Tomography Debugger Class\n",
    "This class provides a single method which takes in a program and a list of qubit indices to tomographize and returns the corresponding density matrix."
   ]
  },
  {
   "cell_type": "code",
   "execution_count": 47,
   "metadata": {},
   "outputs": [],
   "source": [
    "class TomographyDebugger:\n",
    "    def __init__(self):\n",
    "        pass\n",
    "\n",
    "    def run_tomography_function(self, t_type, m, results: List[ExperimentResult], qubits: List[int]):\n",
    "        qubit_num = len(qubits)\n",
    "        d = 2 ** qubit_num\n",
    "        pauli_list = []\n",
    "        expectation_list = []\n",
    "        \n",
    "        if t_type == 'compressed_sensing':\n",
    "                                        \n",
    "#             A = np.zeros((m,1))\n",
    "#             scale_factor = np.sqrt(d / float(m))\n",
    "        \n",
    "            for i in range(m):\n",
    "                #Convert the Pauli term into a tensor\n",
    "                r = results[i]\n",
    "                p_tensor = lifted_pauli(r.setting.out_operator, qubits)\n",
    "                e = r.expectation\n",
    "                #A[i] = e * scale_factor\n",
    "                pauli_list.append(p_tensor)\n",
    "                expectation_list.append(e)\n",
    "            \n",
    "#             print(A.shape)\n",
    "#             print(A)\n",
    "#             adj_A = (np.matrix(A)).getH()\n",
    "#             print(adj_A)\n",
    "            \n",
    "#             def generate_A(x):\n",
    "#                 mat = vec.reshape((d,d))\n",
    "                \n",
    "#                 for i in range(self.m):\n",
    "#                     A[i] = np.trace(pauli_i.dot*(mat)) * scale_factor\n",
    "#                 pauli_list.append(p_tensor)\n",
    "#                 expectation_list.append(e)\n",
    "            \n",
    "#             def obj_func(vec):\n",
    "#                 m = vec.reshape((d,d))\n",
    "#                 return np.trace(np.sqrt(m.getH().dot(m)))\n",
    "            \n",
    "#             def con_dantzig(vec):\n",
    "#                 val = \n",
    "\n",
    "            s = cp.Variable((d,d),complex = True)\n",
    "        \n",
    "            obj = cp.Minimize(cp.norm(s, 'nuc'))\n",
    "            constraints = [cp.trace(s) == 1]\n",
    "            \n",
    "            for i in range(len(pauli_list)):\n",
    "                trace_bool = cp.trace(cp.matmul(pauli_list[i], s)) - expectation_list[i] == 0\n",
    "                constraints.append(trace_bool)\n",
    "\n",
    "            # Form and solve problem.\n",
    "            prob = cp.Problem(obj, constraints)\n",
    "            prob.solve()\n",
    "            rho = s.value\n",
    "\n",
    "            return rho\n",
    "        \n",
    "        elif t_type == \"linear_inv\":\n",
    "            return linear_inv_state_estimate(results=results, qubits=qubits)\n",
    "\n",
    "    def tomographize(self, t_type, m, program: Program, qubits: List[int], num_shots=1000):\n",
    "        #Generate experiments\n",
    "        qubit_experiments = generate_state_tomography_experiment(program=program, qubits=qubits)\n",
    "        \n",
    "        exp_list = []\n",
    "        #Experiment holds all 2^n possible pauli matrices for the given number of qubits\n",
    "        #Now take m random pauli matrices as per the paper's advice\n",
    "        if (m > len(qubit_experiments)):\n",
    "            print(\"Cannot sample more Pauli matrices thatn d^2!\")\n",
    "            return None\n",
    "        exp_list = random.sample(list(qubit_experiments), m)\n",
    "        \n",
    "        input_exp = PyQuilTomographyExperiment(settings=exp_list, program=program)\n",
    "        \n",
    "        #Group experiments if possible to minimize QPU runs\n",
    "        #experiment = group_experiments(experiment)\n",
    "\n",
    "        #NOTE: Change qvm depending on whether we are simulating qvm\n",
    "        qc = get_qc('%dq-qvm' % len(qubits))\n",
    "        qc.compiler.quil_to_native_quil = basic_compile\n",
    "\n",
    "        results = list(measure_observables(qc=qc, tomo_experiment=input_exp, n_shots=num_shots))\n",
    "\n",
    "        rho = self.run_tomography_function(t_type, m, results=results, qubits=qubits)\n",
    "        return rho"
   ]
  },
  {
   "cell_type": "markdown",
   "metadata": {},
   "source": [
    "## Construct a state with a `Program`\n",
    "We'll construct a two-qubit graph state by Hadamarding all qubits and then applying a controlled-Z operation across edges of our graph. In the two-qubit case, there's only one edge. "
   ]
  },
  {
   "cell_type": "code",
   "execution_count": 48,
   "metadata": {},
   "outputs": [
    {
     "name": "stdout",
     "output_type": "stream",
     "text": [
      "H 0\n",
      "H 1\n",
      "CZ 0 1\n",
      "RY(-pi/2) 0\n",
      "X 1\n",
      "CNOT 1 0\n",
      "\n"
     ]
    }
   ],
   "source": [
    "#More complex example!\n",
    "# qubits = [0, 1, 5]\n",
    "\n",
    "# program = Program()\n",
    "# for qubit in qubits:\n",
    "#     program += H(qubit)\n",
    "# program += CZ(qubits[0], qubits[1])\n",
    "# program += X(qubits[1])\n",
    "# program += RX(-np.pi/2, qubits[2])\n",
    "# program += RY(-np.pi/2, qubits[0])\n",
    "# program += X(qubits[2])\n",
    "# program += CNOT(qubits[2], qubits[0])\n",
    "# program += CZ(qubits[1], qubits[0])\n",
    "# program += H(qubits[2])\n",
    "\n",
    "qubits = [0, 1]\n",
    "\n",
    "program = Program()\n",
    "for qubit in qubits:\n",
    "    program += H(qubit)\n",
    "program += CZ(qubits[0], qubits[1])\n",
    "program += RY(-np.pi/2, qubits[0])\n",
    "program += X(qubits[1])\n",
    "program += CNOT(qubits[1], qubits[0])\n",
    "\n",
    "print(program)"
   ]
  },
  {
   "cell_type": "markdown",
   "metadata": {},
   "source": [
    "## Run the tomography debugger and print output"
   ]
  },
  {
   "cell_type": "code",
   "execution_count": 49,
   "metadata": {},
   "outputs": [
    {
     "name": "stdout",
     "output_type": "stream",
     "text": [
      "Linear tomography took 1.21971s\n",
      "Recovered density matrix:\n",
      "\n",
      "[[-2.50000000e-01+1.37945211e-17j -9.50000000e-03+9.00000000e-03j\n",
      "   2.49800181e-16-2.00000000e-03j  5.50000000e-03-6.60648817e-17j]\n",
      " [-9.50000000e-03-9.00000000e-03j  2.50000000e-01+2.29908685e-17j\n",
      "  -5.50000000e-03+6.60648817e-17j -5.00000000e-01+6.00000000e-03j]\n",
      " [ 2.49800181e-16+2.00000000e-03j -5.50000000e-03+6.77579718e-17j\n",
      "  -2.50000000e-01+4.59817369e-18j  2.85000000e-02-5.00000000e-03j]\n",
      " [ 5.50000000e-03-7.59886186e-17j -5.00000000e-01-6.00000000e-03j\n",
      "   2.85000000e-02+5.00000000e-03j  2.50000000e-01-4.59817369e-18j]]\n",
      "Compressed tomography took 1.24477s\n",
      "Recovered density matrix:\n",
      "\n",
      "[[-0.00149984-3.28129797e-17j -0.00574692+7.99983233e-03j\n",
      "   0.00108753+4.01471361e-05j  0.00581965+8.49985083e-03j]\n",
      " [-0.00574692-7.99983233e-03j  0.49350005+3.35312119e-16j\n",
      "   0.00081975+1.50013657e-03j -0.49891209-8.64950427e-03j]\n",
      " [ 0.00108753-4.01471361e-05j  0.00081975-1.50013657e-03j\n",
      "   0.00150021-1.69667718e-16j -0.00076973-8.00016081e-03j]\n",
      " [ 0.00581965-8.49985083e-03j -0.49891209+8.64950427e-03j\n",
      "  -0.00076973+8.00016081e-03j  0.50650009-1.74939422e-16j]]\n"
     ]
    }
   ],
   "source": [
    "import time\n",
    "\n",
    "start_linear = time.time()\n",
    "m = 10\n",
    "debugger = TomographyDebugger()\n",
    "rho_linear = debugger.tomographize(\"linear_inv\", m, program, qubits)\n",
    "end_linear = time.time() - start_linear\n",
    "\n",
    "print(\"Linear tomography took %gs\" % end_linear)\n",
    "print(\"Recovered density matrix:\\n\")\n",
    "print(rho_linear)\n",
    "\n",
    "start_compressed = time.time()\n",
    "rho_compressed = debugger.tomographize(\"compressed_sensing\", m, program, qubits)\n",
    "end_compressed = time.time() - start_compressed\n",
    "print(\"Compressed tomography took %gs\" % end_compressed)\n",
    "print(\"Recovered density matrix:\\n\")\n",
    "print(rho_compressed)"
   ]
  },
  {
   "cell_type": "markdown",
   "metadata": {},
   "source": [
    "## Compare results to true output obtained using wavefunction simulator"
   ]
  },
  {
   "cell_type": "code",
   "execution_count": 50,
   "metadata": {},
   "outputs": [
    {
     "name": "stdout",
     "output_type": "stream",
     "text": [
      "[[ 0. +0.j -0. -0.j  0. +0.j  0. +0.j]\n",
      " [-0. +0.j  0.5+0.j -0. +0.j -0.5+0.j]\n",
      " [ 0. +0.j -0. -0.j  0. +0.j  0. +0.j]\n",
      " [ 0. +0.j -0.5-0.j  0. +0.j  0.5+0.j]]\n"
     ]
    }
   ],
   "source": [
    "from pyquil.api import WavefunctionSimulator\n",
    "wf_sim = WavefunctionSimulator()\n",
    "wf = wf_sim.wavefunction(program)\n",
    "psi = wf.amplitudes\n",
    "\n",
    "rho_true = np.outer(psi, psi.T.conj())\n",
    "print(np.around(rho_true, decimals=3))"
   ]
  },
  {
   "cell_type": "markdown",
   "metadata": {},
   "source": [
    "## Visualize using Hinton plots"
   ]
  },
  {
   "cell_type": "code",
   "execution_count": 51,
   "metadata": {},
   "outputs": [
    {
     "data": {
      "image/png": "[encoded data removed]",
      "text/plain": [
       "<Figure size 432x288 with 3 Axes>"
      ]
     },
     "metadata": {},
     "output_type": "display_data"
    }
   ],
   "source": [
    "from matplotlib import pyplot as plt\n",
    "from forest.benchmarking.plotting import hinton\n",
    "fig, (ax1, ax2, ax3) = plt.subplots(1, 3)\n",
    "hinton(rho_true, ax=ax1)\n",
    "hinton(rho_linear, ax=ax2)\n",
    "hinton(rho_compressed, ax=ax3)\n",
    "ax1.set_title('Analytical Linear')\n",
    "ax2.set_title('Estimated Linear')\n",
    "ax3.set_title('Estimated Compressed')\n",
    "fig.tight_layout()"
   ]
  },
  {
   "cell_type": "markdown",
   "metadata": {},
   "source": [
    "## Calculate matrix norm between true and estimated rho"
   ]
  },
  {
   "cell_type": "code",
   "execution_count": 52,
   "metadata": {},
   "outputs": [
    {
     "name": "stdout",
     "output_type": "stream",
     "text": [
      "Linear norm:\n",
      "0.5022131021787463\n",
      "Compressed norm:\n",
      "0.028012131769667735\n"
     ]
    }
   ],
   "source": [
    "print(\"Linear norm:\")\n",
    "print(np.linalg.norm(rho_linear - rho_true))\n",
    "print(\"Compressed norm:\")\n",
    "print(np.linalg.norm(rho_compressed - rho_true))"
   ]
  },
  {
   "cell_type": "markdown",
   "metadata": {},
   "source": [
    "## Plot graph of results for various measurement values"
   ]
  },
  {
   "cell_type": "code",
   "execution_count": 56,
   "metadata": {},
   "outputs": [
    {
     "name": "stdout",
     "output_type": "stream",
     "text": [
      "Analyzing performance of linear vs. compressed on program:\n",
      "H 0\n",
      "H 1\n",
      "CZ 0 1\n",
      "RY(-pi/2) 0\n",
      "X 1\n",
      "CNOT 1 0\n",
      "\n",
      "Running iteration 1/16\n",
      "Running iteration 2/16\n",
      "Running iteration 3/16\n",
      "Running iteration 4/16\n",
      "Running iteration 5/16\n",
      "Running iteration 6/16\n",
      "Running iteration 7/16\n",
      "Running iteration 8/16\n",
      "Running iteration 9/16\n",
      "Running iteration 10/16\n",
      "Running iteration 11/16\n",
      "Running iteration 12/16\n",
      "Running iteration 13/16\n",
      "Running iteration 14/16\n",
      "Running iteration 15/16\n"
     ]
    },
    {
     "data": {
      "image/png": "[encoded data removed]",
      "text/plain": [
       "<Figure size 432x288 with 1 Axes>"
      ]
     },
     "metadata": {
      "needs_background": "light"
     },
     "output_type": "display_data"
    }
   ],
   "source": [
    "import matplotlib.pyplot as plt\n",
    "\n",
    "max_pauli_num = 4 ** len(qubits)\n",
    "num_trials = 5\n",
    "\n",
    "linear_norms = []\n",
    "compressed_norms = []\n",
    "\n",
    "print(\"Analyzing performance of linear vs. compressed on program:\")\n",
    "print(program)\n",
    "\n",
    "for i in range(1, max_pauli_num):\n",
    "    print(\"Running iteration %d/%d\" % (i, max_pauli_num))\n",
    "    linear_norm_mean = 0.0\n",
    "    compressed_norm_mean = 0.0\n",
    "    for j in range(num_trials):\n",
    "        rho_linear = debugger.tomographize(\"linear_inv\", i, program, qubits)\n",
    "        rho_compressed = debugger.tomographize(\"compressed_sensing\", i, program, qubits)\n",
    "        linear_norm_mean += np.linalg.norm(rho_linear - rho_true)\n",
    "        compressed_norm_mean += np.linalg.norm(rho_compressed - rho_true)\n",
    "    \n",
    "    linear_norm_mean /= num_trials\n",
    "    compressed_norm_mean /= num_trials\n",
    "    \n",
    "    linear_norms.append(linear_norm_mean)\n",
    "    compressed_norms.append(compressed_norm_mean)\n",
    "\n",
    "plt.plot(linear_norms, label='linear')\n",
    "plt.plot(compressed_norms, label='compressed')\n",
    "plt.legend()\n",
    "plt.show()"
   ]
  },
  {
   "cell_type": "code",
   "execution_count": null,
   "metadata": {},
   "outputs": [],
   "source": []
  }
 ],
 "metadata": {
  "kernelspec": {
   "display_name": "Python 3",
   "language": "python",
   "name": "python3"
  },
  "language_info": {
   "codemirror_mode": {
    "name": "ipython",
    "version": 3
   },
   "file_extension": ".py",
   "mimetype": "text/x-python",
   "name": "python",
   "nbconvert_exporter": "python",
   "pygments_lexer": "ipython3",
   "version": "3.7.1"
  }
 },
 "nbformat": 4,
 "nbformat_minor": 2
}
