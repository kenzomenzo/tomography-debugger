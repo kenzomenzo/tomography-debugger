{
 "cells": [
  {
   "cell_type": "markdown",
   "metadata": {},
   "source": [
    "# State tomography\n",
    "State tomography involves measuring a quantum state repeatedly in the bases given by `itertools.product(['X', 'Y', 'Z], repeat=n_qubits)`. From these measurements, we can reconstruct a density matrix $\\rho$."
   ]
  },
  {
   "cell_type": "code",
   "execution_count": 1,
   "metadata": {},
   "outputs": [],
   "source": [
    "import numpy as np\n",
    "import imp\n",
    "from pyquil import Program, get_qc\n",
    "from pyquil.gates import *\n",
    "from forest.benchmarking.tomography import *\n",
    "# from forest.benchmarking.tomography_debugger import *"
   ]
  },
  {
   "cell_type": "markdown",
   "metadata": {},
   "source": [
    "## Construct a state with a `Program`\n",
    "We'll construct a two-qubit graph state by Hadamarding all qubits and then applying a controlled-Z operation across edges of our graph. In the two-qubit case, there's only one edge. "
   ]
  },
  {
   "cell_type": "code",
   "execution_count": 2,
   "metadata": {},
   "outputs": [
    {
     "name": "stdout",
     "output_type": "stream",
     "text": [
      "H 0\n",
      "H 1\n",
      "CZ 0 1\n",
      "\n"
     ]
    }
   ],
   "source": [
    "qubits = [0, 1]\n",
    "program = Program()\n",
    "for qubit in qubits:\n",
    "    program += H(qubit)\n",
    "program += CZ(qubits[0], qubits[1])\n",
    "print(program)"
   ]
  },
  {
   "cell_type": "code",
   "execution_count": 3,
   "metadata": {},
   "outputs": [],
   "source": [
    "# debugger = TomographyDebugger()\n",
    "# debugger.tomographize(program, qubits)"
   ]
  },
  {
   "cell_type": "markdown",
   "metadata": {},
   "source": [
    "## Construct a `TomographyExperiment` for state tomography\n",
    "We can print this out to see the 16 measurements we will perform."
   ]
  },
  {
   "cell_type": "code",
   "execution_count": 5,
   "metadata": {},
   "outputs": [
    {
     "name": "stdout",
     "output_type": "stream",
     "text": [
      "H 0; H 1; CZ 0 1\n",
      "0: Z0_0 * Z0_1→(1+0j)*I\n",
      "1: Z0_0 * Z0_1→(1+0j)*X1\n",
      "2: Z0_0 * Z0_1→(1+0j)*Y1\n",
      "3: Z0_0 * Z0_1→(1+0j)*Z1\n",
      "4: Z0_0 * Z0_1→(1+0j)*X0\n",
      "5: Z0_0 * Z0_1→(1+0j)*X0X1\n",
      "6: Z0_0 * Z0_1→(1+0j)*X0Y1\n",
      "7: Z0_0 * Z0_1→(1+0j)*X0Z1\n",
      "8: Z0_0 * Z0_1→(1+0j)*Y0\n",
      "9: Z0_0 * Z0_1→(1+0j)*Y0X1\n",
      "10: Z0_0 * Z0_1→(1+0j)*Y0Y1\n",
      "11: Z0_0 * Z0_1→(1+0j)*Y0Z1\n",
      "12: Z0_0 * Z0_1→(1+0j)*Z0\n",
      "13: Z0_0 * Z0_1→(1+0j)*Z0X1\n",
      "14: Z0_0 * Z0_1→(1+0j)*Z0Y1\n",
      "15: Z0_0 * Z0_1→(1+0j)*Z0Z1\n"
     ]
    }
   ],
   "source": [
    "from forest.benchmarking.tomography import generate_state_tomography_experiment\n",
    "experiment = generate_state_tomography_experiment(program=program, qubits=qubits)\n",
    "print(experiment)"
   ]
  },
  {
   "cell_type": "markdown",
   "metadata": {},
   "source": [
    "### Optional grouping\n",
    "We can simultaneously estimate some of these observables"
   ]
  },
  {
   "cell_type": "code",
   "execution_count": 6,
   "metadata": {},
   "outputs": [
    {
     "name": "stdout",
     "output_type": "stream",
     "text": [
      "H 0; H 1; CZ 0 1\n",
      "0: Z0_0 * Z0_1→(1+0j)*I, Z0_0 * Z0_1→(1+0j)*X1, Z0_0 * Z0_1→(1+0j)*X0, Z0_0 * Z0_1→(1+0j)*X0X1\n",
      "1: Z0_0 * Z0_1→(1+0j)*Y1, Z0_0 * Z0_1→(1+0j)*X0Y1\n",
      "2: Z0_0 * Z0_1→(1+0j)*Z1, Z0_0 * Z0_1→(1+0j)*X0Z1\n",
      "3: Z0_0 * Z0_1→(1+0j)*Y0, Z0_0 * Z0_1→(1+0j)*Y0X1\n",
      "4: Z0_0 * Z0_1→(1+0j)*Y0Y1\n",
      "5: Z0_0 * Z0_1→(1+0j)*Y0Z1\n",
      "6: Z0_0 * Z0_1→(1+0j)*Z0, Z0_0 * Z0_1→(1+0j)*Z0X1\n",
      "7: Z0_0 * Z0_1→(1+0j)*Z0Y1\n",
      "8: Z0_0 * Z0_1→(1+0j)*Z0Z1\n"
     ]
    }
   ],
   "source": [
    "from pyquil.operator_estimation import group_experiments\n",
    "print(group_experiments(experiment))"
   ]
  },
  {
   "cell_type": "markdown",
   "metadata": {},
   "source": [
    "## PyQuil will run the tomography programs"
   ]
  },
  {
   "cell_type": "code",
   "execution_count": 26,
   "metadata": {},
   "outputs": [
    {
     "name": "stdout",
     "output_type": "stream",
     "text": [
      "H 0; H 1; CZ 0 1\n",
      "0: Z0_0 * Z0_1→(1+0j)*I\n",
      "1: Z0_0 * Z0_1→(1+0j)*X1\n",
      "2: Z0_0 * Z0_1→(1+0j)*Y1\n",
      "3: Z0_0 * Z0_1→(1+0j)*Z1\n",
      "4: Z0_0 * Z0_1→(1+0j)*X0\n",
      "5: Z0_0 * Z0_1→(1+0j)*X0X1\n",
      "6: Z0_0 * Z0_1→(1+0j)*X0Y1\n",
      "7: Z0_0 * Z0_1→(1+0j)*X0Z1\n",
      "8: Z0_0 * Z0_1→(1+0j)*Y0\n",
      "9: Z0_0 * Z0_1→(1+0j)*Y0X1\n",
      "10: Z0_0 * Z0_1→(1+0j)*Y0Y1\n",
      "11: Z0_0 * Z0_1→(1+0j)*Y0Z1\n",
      "12: Z0_0 * Z0_1→(1+0j)*Z0\n",
      "13: Z0_0 * Z0_1→(1+0j)*Z0X1\n",
      "14: Z0_0 * Z0_1→(1+0j)*Z0Y1\n",
      "15: Z0_0 * Z0_1→(1+0j)*Z0Z1\n"
     ]
    },
    {
     "data": {
      "text/plain": [
       "[ExperimentResult[Z0_0 * Z0_1→(1+0j)*I: 1.0 +- 0.0],\n",
       " ExperimentResult[Z0_0 * Z0_1→(1+0j)*X1: 0.052 +- 0.031579993666877144],\n",
       " ExperimentResult[Z0_0 * Z0_1→(1+0j)*Y1: 0.042 +- 0.031594873001802054],\n",
       " ExperimentResult[Z0_0 * Z0_1→(1+0j)*Z1: 0.008 +- 0.03162176465664116],\n",
       " ExperimentResult[Z0_0 * Z0_1→(1+0j)*X0: -0.018 +- 0.03161765329685301],\n",
       " ExperimentResult[Z0_0 * Z0_1→(1+0j)*X0X1: 0.03 +- 0.031608543148965274],\n",
       " ExperimentResult[Z0_0 * Z0_1→(1+0j)*X0Y1: 0.066 +- 0.031553827026210304],\n",
       " ExperimentResult[Z0_0 * Z0_1→(1+0j)*X0Z1: 1.0 +- 0.0],\n",
       " ExperimentResult[Z0_0 * Z0_1→(1+0j)*Y0: -0.002 +- 0.03162271335606734],\n",
       " ExperimentResult[Z0_0 * Z0_1→(1+0j)*Y0X1: 0.002 +- 0.031622713356067346],\n",
       " ExperimentResult[Z0_0 * Z0_1→(1+0j)*Y0Y1: 1.0 +- 0.0],\n",
       " ExperimentResult[Z0_0 * Z0_1→(1+0j)*Y0Z1: -0.048 +- 0.031586326155474305],\n",
       " ExperimentResult[Z0_0 * Z0_1→(1+0j)*Z0: 0.026 +- 0.031612086296225375],\n",
       " ExperimentResult[Z0_0 * Z0_1→(1+0j)*Z0X1: 1.0 +- 0.0],\n",
       " ExperimentResult[Z0_0 * Z0_1→(1+0j)*Z0Y1: 0.028 +- 0.03161037804266188],\n",
       " ExperimentResult[Z0_0 * Z0_1→(1+0j)*Z0Z1: 0.0 +- 0.03162277660168379]]"
      ]
     },
     "execution_count": 26,
     "metadata": {},
     "output_type": "execute_result"
    }
   ],
   "source": [
    "from pyquil.operator_estimation import measure_observables\n",
    "\n",
    "qc = get_qc('2q-qvm')\n",
    "# Over-write full quilc compilation with a much more simple\n",
    "# version that *only* substitutes gates to Rigetti-native gates.\n",
    "# We don't want to accidentally compile away our tomography circuit\n",
    "# or map to different qubits.\n",
    "from forest.benchmarking.compilation import basic_compile\n",
    "qc.compiler.quil_to_native_quil = basic_compile\n",
    "\n",
    "print(experiment)\n",
    "results = list(measure_observables(qc=qc, tomo_experiment=experiment, n_shots=1_000))\n",
    "results"
   ]
  },
  {
   "cell_type": "markdown",
   "metadata": {},
   "source": [
    "### We can look at a bunch of numbers..."
   ]
  },
  {
   "cell_type": "code",
   "execution_count": 6,
   "metadata": {},
   "outputs": [
    {
     "data": {
      "text/plain": [
       "array([[ 0.245+0.j   ,  0.261+0.022j,  0.244+0.008j, -0.231+0.01j ],\n",
       "       [ 0.261-0.022j,  0.235+0.j   ,  0.269+0.015j, -0.255-0.001j],\n",
       "       [ 0.244-0.008j,  0.27 -0.015j,  0.261+0.j   , -0.239-0.013j],\n",
       "       [-0.231-0.01j , -0.256+0.002j, -0.239+0.013j,  0.259-0.j   ]])"
      ]
     },
     "execution_count": 6,
     "metadata": {},
     "output_type": "execute_result"
    }
   ],
   "source": [
    "from forest.benchmarking.tomography import linear_inv_state_estimate\n",
    "rho = linear_inv_state_estimate(results, qubits=qubits)\n",
    "np.round(rho, 3)"
   ]
  },
  {
   "cell_type": "code",
   "execution_count": 7,
   "metadata": {},
   "outputs": [
    {
     "data": {
      "text/plain": [
       "array([[ 0.25,  0.25,  0.25, -0.25],\n",
       "       [ 0.25,  0.25,  0.25, -0.25],\n",
       "       [ 0.25,  0.25,  0.25, -0.25],\n",
       "       [-0.25, -0.25, -0.25,  0.25]])"
      ]
     },
     "execution_count": 7,
     "metadata": {},
     "output_type": "execute_result"
    }
   ],
   "source": [
    "psi = (1/2) * np.array([1, 1, 1, -1])\n",
    "rho_true = np.outer(psi, psi.T.conj())\n",
    "rho_true"
   ]
  },
  {
   "cell_type": "markdown",
   "metadata": {},
   "source": [
    "### Or visualize using Hinton plots"
   ]
  },
  {
   "cell_type": "code",
   "execution_count": 8,
   "metadata": {},
   "outputs": [
    {
     "data": {
      "image/png": "[encoded data removed]",
      "text/plain": [
       "<Figure size 432x288 with 2 Axes>"
      ]
     },
     "metadata": {},
     "output_type": "display_data"
    }
   ],
   "source": [
    "from matplotlib import pyplot as plt\n",
    "from forest.benchmarking.plotting import hinton\n",
    "fig, (ax1, ax2) = plt.subplots(1, 2)\n",
    "hinton(rho_true, ax=ax1)\n",
    "hinton(rho, ax=ax2)\n",
    "ax1.set_title('Analytical')\n",
    "ax2.set_title('Estimated')\n",
    "fig.tight_layout()"
   ]
  },
  {
   "cell_type": "markdown",
   "metadata": {},
   "source": [
    "### Matrix norm between true and estimated is low"
   ]
  },
  {
   "cell_type": "code",
   "execution_count": 9,
   "metadata": {},
   "outputs": [
    {
     "data": {
      "text/plain": [
       "0.06827884006044628"
      ]
     },
     "execution_count": 9,
     "metadata": {},
     "output_type": "execute_result"
    }
   ],
   "source": [
    "np.linalg.norm(rho - rho_true)"
   ]
  },
  {
   "cell_type": "markdown",
   "metadata": {},
   "source": [
    "## Linear inversion estimate"
   ]
  },
  {
   "cell_type": "code",
   "execution_count": 11,
   "metadata": {},
   "outputs": [
    {
     "name": "stdout",
     "output_type": "stream",
     "text": [
      "[[ 0.245 +0.j      0.261 +0.022j   0.2445+0.0075j -0.2305+0.0095j]\n",
      " [ 0.261 -0.022j   0.235 +0.j      0.2695+0.0155j -0.2555-0.0015j]\n",
      " [ 0.2445-0.0075j  0.2695-0.0155j  0.261 +0.j     -0.239 -0.013j ]\n",
      " [-0.2305-0.0095j -0.2555+0.0015j -0.239 +0.013j   0.259 -0.j    ]]\n",
      "Purity = (1.004662-2.1250362580715887e-17j)\n"
     ]
    },
    {
     "data": {
      "image/png": "[encoded data removed]",
      "text/plain": [
       "<Figure size 432x288 with 1 Axes>"
      ]
     },
     "metadata": {},
     "output_type": "display_data"
    }
   ],
   "source": [
    "from forest.benchmarking.tomography import linear_inv_state_estimate\n",
    "rho = linear_inv_state_estimate(results, qubits=qubits)\n",
    "\n",
    "print(np.round(rho, 4))\n",
    "print('Purity =', np.trace(rho @ rho))\n",
    "hinton(rho)"
   ]
  },
  {
   "cell_type": "markdown",
   "metadata": {},
   "source": [
    "## Maximum Liklihood Estimate (MLE) via diluted iterative method"
   ]
  },
  {
   "cell_type": "code",
   "execution_count": 17,
   "metadata": {},
   "outputs": [
    {
     "name": "stdout",
     "output_type": "stream",
     "text": [
      "(TomographyEstimate(in_ops=[<pyquil.paulis.PauliTerm object at 0x101b84fbe0>, <pyquil.paulis.PauliTerm object at 0x101b84fb00>, <pyquil.paulis.PauliTerm object at 0x101b84fdd8>, <pyquil.paulis.PauliTerm object at 0x101b84fcc0>, <pyquil.paulis.PauliTerm object at 0x101b84f7f0>, <pyquil.paulis.PauliTerm object at 0x101b84fc88>, <pyquil.paulis.PauliTerm object at 0x101b84f7b8>, <pyquil.paulis.PauliTerm object at 0x101b84fc50>, <pyquil.paulis.PauliTerm object at 0x101b84fda0>, <pyquil.paulis.PauliTerm object at 0x101b84fe80>, <pyquil.paulis.PauliTerm object at 0x101b84fcf8>, <pyquil.paulis.PauliTerm object at 0x101b84f780>, <pyquil.paulis.PauliTerm object at 0x101b84f8d0>, <pyquil.paulis.PauliTerm object at 0x101b84f4a8>, <pyquil.paulis.PauliTerm object at 0x101b7e7d30>], program=None, out_ops=[<pyquil.paulis.PauliTerm object at 0x1019691da0>, <pyquil.paulis.PauliTerm object at 0x1019691eb8>, <pyquil.paulis.PauliTerm object at 0x1019691fd0>, <pyquil.paulis.PauliTerm object at 0x10196ac0b8>, <pyquil.paulis.PauliTerm object at 0x10196ac1d0>, <pyquil.paulis.PauliTerm object at 0x10196ac2e8>, <pyquil.paulis.PauliTerm object at 0x10196ac400>, <pyquil.paulis.PauliTerm object at 0x10196ac518>, <pyquil.paulis.PauliTerm object at 0x10196ac630>, <pyquil.paulis.PauliTerm object at 0x10196ac748>, <pyquil.paulis.PauliTerm object at 0x10196ac860>, <pyquil.paulis.PauliTerm object at 0x10196ac978>, <pyquil.paulis.PauliTerm object at 0x10196aca90>, <pyquil.paulis.PauliTerm object at 0x10196acba8>, <pyquil.paulis.PauliTerm object at 0x10196accc0>], dimension=4, number_qubits=2, expectations=[-0.022, -0.012, -0.04, 0.044, 0.078, -0.05, 1.0, -0.018, 0.012, 1.0, -0.07, 0.012, 1.0, -0.018, 0.008], variances=[0.000999516, 0.0009998559999999997, 0.0009984000000000002, 0.000998064, 0.0009939159999999999, 0.0009974999999999997, 0.0, 0.000999676, 0.0009998559999999997, 0.0, 0.0009951000000000003, 0.0009998559999999997, 0.0, 0.000999676, 0.000999936], estimate=StateTomographyEstimate(state_point_est=array([[ 0.24375561+9.56447917e-19j,  0.24914873+5.16784101e-03j,\n",
      "         0.2502344 +4.37548122e-03j, -0.24409178-4.45149558e-03j],\n",
      "       [ 0.24914873-5.16784101e-03j,  0.25477074+1.03955503e-19j,\n",
      "         0.25586363-8.32908298e-04j, -0.24958672+6.24981472e-04j],\n",
      "       [ 0.2502344 -4.37548122e-03j,  0.25586363+8.32908298e-04j,\n",
      "         0.25696394-5.32841454e-19j, -0.25065942-1.88297312e-04j],\n",
      "       [-0.24409178+4.45149558e-03j, -0.24958672-6.24981472e-04j,\n",
      "        -0.25065942+1.88297312e-04j,  0.24450972-5.27561966e-19j]]), type='iterative_MLE', beta=0.0, entropy=0.0, dilution=0.005, loglike=-3611.8253766223097)), 'optimal')\n"
     ]
    }
   ],
   "source": [
    "from forest.benchmarking.tomography import iterative_mle_state_estimate\n",
    "rho = iterative_mle_state_estimate(results=results, qubits=qubits)\n",
    "print(rho)"
   ]
  },
  {
   "cell_type": "markdown",
   "metadata": {},
   "source": [
    "## MLE with Max Entropy constraint"
   ]
  },
  {
   "cell_type": "code",
   "execution_count": 18,
   "metadata": {},
   "outputs": [
    {
     "ename": "TypeError",
     "evalue": "iterative_mle_state_estimate() got an unexpected keyword argument 'epsilon'",
     "output_type": "error",
     "traceback": [
      "\u001b[0;31m---------------------------------------------------------------------------\u001b[0m",
      "\u001b[0;31mTypeError\u001b[0m                                 Traceback (most recent call last)",
      "\u001b[0;32m<ipython-input-18-793176d65ae0>\u001b[0m in \u001b[0;36m<module>\u001b[0;34m\u001b[0m\n\u001b[0;32m----> 1\u001b[0;31m \u001b[0mrho\u001b[0m \u001b[0;34m=\u001b[0m \u001b[0miterative_mle_state_estimate\u001b[0m\u001b[0;34m(\u001b[0m\u001b[0mresults\u001b[0m\u001b[0;34m=\u001b[0m\u001b[0mresults\u001b[0m\u001b[0;34m,\u001b[0m \u001b[0mqubits\u001b[0m\u001b[0;34m=\u001b[0m\u001b[0mqubits\u001b[0m\u001b[0;34m,\u001b[0m \u001b[0mepsilon\u001b[0m\u001b[0;34m=\u001b[0m\u001b[0;36m0.5\u001b[0m\u001b[0;34m,\u001b[0m \u001b[0mentropy_penalty\u001b[0m\u001b[0;34m=\u001b[0m\u001b[0;36m0.005\u001b[0m\u001b[0;34m)\u001b[0m\u001b[0;34m\u001b[0m\u001b[0;34m\u001b[0m\u001b[0m\n\u001b[0m\u001b[1;32m      2\u001b[0m \u001b[0mprint\u001b[0m\u001b[0;34m(\u001b[0m\u001b[0mnp\u001b[0m\u001b[0;34m.\u001b[0m\u001b[0maround\u001b[0m\u001b[0;34m(\u001b[0m\u001b[0mrho\u001b[0m\u001b[0;34m,\u001b[0m \u001b[0mdecimals\u001b[0m\u001b[0;34m=\u001b[0m\u001b[0;36m4\u001b[0m\u001b[0;34m)\u001b[0m\u001b[0;34m)\u001b[0m\u001b[0;34m\u001b[0m\u001b[0;34m\u001b[0m\u001b[0m\n\u001b[1;32m      3\u001b[0m \u001b[0mprint\u001b[0m\u001b[0;34m(\u001b[0m\u001b[0;34m'Purity ='\u001b[0m\u001b[0;34m,\u001b[0m \u001b[0mnp\u001b[0m\u001b[0;34m.\u001b[0m\u001b[0mtrace\u001b[0m\u001b[0;34m(\u001b[0m\u001b[0mrho\u001b[0m \u001b[0;34m@\u001b[0m \u001b[0mrho\u001b[0m\u001b[0;34m)\u001b[0m\u001b[0;34m)\u001b[0m\u001b[0;34m\u001b[0m\u001b[0;34m\u001b[0m\u001b[0m\n\u001b[1;32m      4\u001b[0m \u001b[0mhinton\u001b[0m\u001b[0;34m(\u001b[0m\u001b[0mrho\u001b[0m\u001b[0;34m)\u001b[0m\u001b[0;34m\u001b[0m\u001b[0;34m\u001b[0m\u001b[0m\n",
      "\u001b[0;31mTypeError\u001b[0m: iterative_mle_state_estimate() got an unexpected keyword argument 'epsilon'"
     ]
    }
   ],
   "source": [
    "rho = iterative_mle_state_estimate(results=results, qubits=qubits, epsilon=0.5, entropy_penalty=0.005)\n",
    "print(np.around(rho, decimals=4))\n",
    "print('Purity =', np.trace(rho @ rho))\n",
    "hinton(rho)"
   ]
  },
  {
   "cell_type": "markdown",
   "metadata": {},
   "source": [
    "## MLE with Hedging parameter"
   ]
  },
  {
   "cell_type": "code",
   "execution_count": 19,
   "metadata": {},
   "outputs": [
    {
     "ename": "TypeError",
     "evalue": "iterative_mle_state_estimate() got an unexpected keyword argument 'epsilon'",
     "output_type": "error",
     "traceback": [
      "\u001b[0;31m---------------------------------------------------------------------------\u001b[0m",
      "\u001b[0;31mTypeError\u001b[0m                                 Traceback (most recent call last)",
      "\u001b[0;32m<ipython-input-19-877fa568c6d8>\u001b[0m in \u001b[0;36m<module>\u001b[0;34m\u001b[0m\n\u001b[0;32m----> 1\u001b[0;31m \u001b[0mrho\u001b[0m \u001b[0;34m=\u001b[0m \u001b[0miterative_mle_state_estimate\u001b[0m\u001b[0;34m(\u001b[0m\u001b[0mresults\u001b[0m\u001b[0;34m=\u001b[0m\u001b[0mresults\u001b[0m\u001b[0;34m,\u001b[0m \u001b[0mqubits\u001b[0m\u001b[0;34m=\u001b[0m\u001b[0mqubits\u001b[0m\u001b[0;34m,\u001b[0m \u001b[0mepsilon\u001b[0m\u001b[0;34m=\u001b[0m\u001b[0;36m.0001\u001b[0m\u001b[0;34m,\u001b[0m \u001b[0mbeta\u001b[0m\u001b[0;34m=\u001b[0m\u001b[0;36m.61\u001b[0m\u001b[0;34m)\u001b[0m\u001b[0;34m\u001b[0m\u001b[0;34m\u001b[0m\u001b[0m\n\u001b[0m\u001b[1;32m      2\u001b[0m \u001b[0mprint\u001b[0m\u001b[0;34m(\u001b[0m\u001b[0mnp\u001b[0m\u001b[0;34m.\u001b[0m\u001b[0maround\u001b[0m\u001b[0;34m(\u001b[0m\u001b[0mrho\u001b[0m\u001b[0;34m,\u001b[0m \u001b[0mdecimals\u001b[0m\u001b[0;34m=\u001b[0m\u001b[0;36m4\u001b[0m\u001b[0;34m)\u001b[0m\u001b[0;34m)\u001b[0m\u001b[0;34m\u001b[0m\u001b[0;34m\u001b[0m\u001b[0m\n\u001b[1;32m      3\u001b[0m \u001b[0mprint\u001b[0m\u001b[0;34m(\u001b[0m\u001b[0;34m'Purity = '\u001b[0m\u001b[0;34m,\u001b[0m \u001b[0mnp\u001b[0m\u001b[0;34m.\u001b[0m\u001b[0mtrace\u001b[0m\u001b[0;34m(\u001b[0m\u001b[0mrho\u001b[0m \u001b[0;34m@\u001b[0m \u001b[0mrho\u001b[0m\u001b[0;34m)\u001b[0m\u001b[0;34m)\u001b[0m\u001b[0;34m\u001b[0m\u001b[0;34m\u001b[0m\u001b[0m\n\u001b[1;32m      4\u001b[0m \u001b[0mhinton\u001b[0m\u001b[0;34m(\u001b[0m\u001b[0mrho\u001b[0m\u001b[0;34m)\u001b[0m\u001b[0;34m\u001b[0m\u001b[0;34m\u001b[0m\u001b[0m\n",
      "\u001b[0;31mTypeError\u001b[0m: iterative_mle_state_estimate() got an unexpected keyword argument 'epsilon'"
     ]
    }
   ],
   "source": [
    "rho = iterative_mle_state_estimate(results=results, qubits=qubits, epsilon=.0001, beta=.61)\n",
    "print(np.around(rho, decimals=4))\n",
    "print('Purity = ', np.trace(rho @ rho))\n",
    "hinton(rho)"
   ]
  },
  {
   "cell_type": "markdown",
   "metadata": {},
   "source": [
    "## Project an unphysical state to the closest physical state"
   ]
  },
  {
   "cell_type": "code",
   "execution_count": 20,
   "metadata": {},
   "outputs": [
    {
     "data": {
      "image/png": "[encoded data removed]",
      "text/plain": [
       "<Figure size 432x288 with 2 Axes>"
      ]
     },
     "metadata": {},
     "output_type": "display_data"
    }
   ],
   "source": [
    "from forest.benchmarking.tomography import project_density_matrix\n",
    "rho_unphys = np.random.uniform(-1, 1, (2, 2)) \\\n",
    "    * np.exp(1.j * np.random.uniform(-np.pi, np.pi, (2, 2)))\n",
    "rho_phys = project_density_matrix(rho_unphys)\n",
    "\n",
    "fig, (ax1, ax2) = plt.subplots(1, 2)\n",
    "hinton(rho_unphys, ax=ax1)\n",
    "hinton(rho_phys, ax=ax2)\n",
    "ax1.set_title('Unphysical')\n",
    "ax2.set_title('Physical projection')\n",
    "fig.tight_layout()"
   ]
  },
  {
   "cell_type": "code",
   "execution_count": 21,
   "metadata": {},
   "outputs": [
    {
     "data": {
      "text/plain": [
       "True"
      ]
     },
     "execution_count": 21,
     "metadata": {},
     "output_type": "execute_result"
    }
   ],
   "source": [
    "# Test the wizard method. Example from fig 1 of maximum likelihood minimum effort \n",
    "# https://doi.org/10.1103/PhysRevLett.108.070502\n",
    "\n",
    "eigs = np.diag(np.array(list(reversed([3.0/5, 1.0/2, 7.0/20, 1.0/10, -11.0/20]))))\n",
    "phys = project_density_matrix(eigs)\n",
    "np.allclose(phys, np.diag([0, 0, 1.0/5, 7.0/20, 9.0/20]))"
   ]
  },
  {
   "cell_type": "markdown",
   "metadata": {},
   "source": [
    "# Lightweight Bootstrap for functionals of the state"
   ]
  },
  {
   "cell_type": "code",
   "execution_count": 22,
   "metadata": {},
   "outputs": [],
   "source": [
    "import forest.benchmarking.distance_measures as dm\n",
    "from forest.benchmarking.tomography import estimate_variance"
   ]
  },
  {
   "cell_type": "code",
   "execution_count": 23,
   "metadata": {},
   "outputs": [],
   "source": [
    "from functools import partial\n",
    "fast_tomo_est = partial(iterative_mle_state_estimate, epsilon=.0001, beta=.5, tol=1e-3)"
   ]
  },
  {
   "cell_type": "markdown",
   "metadata": {},
   "source": [
    "**Purity**"
   ]
  },
  {
   "cell_type": "code",
   "execution_count": 24,
   "metadata": {},
   "outputs": [
    {
     "ename": "TypeError",
     "evalue": "iterative_mle_state_estimate() got an unexpected keyword argument 'epsilon'",
     "output_type": "error",
     "traceback": [
      "\u001b[0;31m---------------------------------------------------------------------------\u001b[0m",
      "\u001b[0;31mTypeError\u001b[0m                                 Traceback (most recent call last)",
      "\u001b[0;32m<ipython-input-24-9a5e76188710>\u001b[0m in \u001b[0;36m<module>\u001b[0;34m\u001b[0m\n\u001b[1;32m      1\u001b[0m mle_est = estimate_variance(results, qubits, fast_tomo_est, dm.purity,\n\u001b[0;32m----> 2\u001b[0;31m                             n_resamples=40, project_to_physical=True)\n\u001b[0m\u001b[1;32m      3\u001b[0m lin_inv_est = estimate_variance(results, qubits, linear_inv_state_estimate, dm.purity,\n\u001b[1;32m      4\u001b[0m                                 n_resamples=40, project_to_physical=True)\n\u001b[1;32m      5\u001b[0m \u001b[0mprint\u001b[0m\u001b[0;34m(\u001b[0m\u001b[0mmle_est\u001b[0m\u001b[0;34m)\u001b[0m\u001b[0;34m\u001b[0m\u001b[0;34m\u001b[0m\u001b[0m\n",
      "\u001b[0;32m/anaconda3/lib/python3.7/site-packages/forest/benchmarking/tomography.py\u001b[0m in \u001b[0;36mestimate_variance\u001b[0;34m(results, qubits, tomo_estimator, functional, target_state, n_resamples, project_to_physical)\u001b[0m\n\u001b[1;32m    784\u001b[0m     \u001b[0;32mfor\u001b[0m \u001b[0m_\u001b[0m \u001b[0;32min\u001b[0m \u001b[0mrange\u001b[0m\u001b[0;34m(\u001b[0m\u001b[0mn_resamples\u001b[0m\u001b[0;34m)\u001b[0m\u001b[0;34m:\u001b[0m\u001b[0;34m\u001b[0m\u001b[0;34m\u001b[0m\u001b[0m\n\u001b[1;32m    785\u001b[0m         \u001b[0mresampled_results\u001b[0m \u001b[0;34m=\u001b[0m \u001b[0m_resample_expectations_with_beta\u001b[0m\u001b[0;34m(\u001b[0m\u001b[0mresults\u001b[0m\u001b[0;34m)\u001b[0m\u001b[0;34m\u001b[0m\u001b[0;34m\u001b[0m\u001b[0m\n\u001b[0;32m--> 786\u001b[0;31m         \u001b[0mestimate\u001b[0m \u001b[0;34m=\u001b[0m \u001b[0mtomo_estimator\u001b[0m\u001b[0;34m(\u001b[0m\u001b[0mresampled_results\u001b[0m\u001b[0;34m,\u001b[0m \u001b[0mqubits\u001b[0m\u001b[0;34m)\u001b[0m\u001b[0;34m\u001b[0m\u001b[0;34m\u001b[0m\u001b[0m\n\u001b[0m\u001b[1;32m    787\u001b[0m \u001b[0;34m\u001b[0m\u001b[0m\n\u001b[1;32m    788\u001b[0m         \u001b[0;31m# TODO: Shim! over different return values between linear inv. and mle\u001b[0m\u001b[0;34m\u001b[0m\u001b[0;34m\u001b[0m\u001b[0;34m\u001b[0m\u001b[0m\n",
      "\u001b[0;31mTypeError\u001b[0m: iterative_mle_state_estimate() got an unexpected keyword argument 'epsilon'"
     ]
    }
   ],
   "source": [
    "mle_est = estimate_variance(results, qubits, fast_tomo_est, dm.purity,\n",
    "                            n_resamples=40, project_to_physical=True)\n",
    "lin_inv_est = estimate_variance(results, qubits, linear_inv_state_estimate, dm.purity,\n",
    "                                n_resamples=40, project_to_physical=True)\n",
    "print(mle_est)\n",
    "print(lin_inv_est)"
   ]
  },
  {
   "cell_type": "markdown",
   "metadata": {},
   "source": [
    "**Fidelity**"
   ]
  },
  {
   "cell_type": "code",
   "execution_count": null,
   "metadata": {},
   "outputs": [],
   "source": [
    "mle_est = estimate_variance(results, qubits, fast_tomo_est, dm.fidelity,\n",
    "                            target_state=rho_true, n_resamples=40, project_to_physical=True)\n",
    "lin_inv_est = estimate_variance(results, qubits, linear_inv_state_estimate, dm.fidelity,\n",
    "                                target_state=rho_true, n_resamples=40, project_to_physical=True)\n",
    "print(mle_est)\n",
    "print(lin_inv_est)"
   ]
  },
  {
   "cell_type": "code",
   "execution_count": null,
   "metadata": {},
   "outputs": [],
   "source": []
  }
 ],
 "metadata": {
  "kernelspec": {
   "display_name": "Python 3",
   "language": "python",
   "name": "python3"
  },
  "language_info": {
   "codemirror_mode": {
    "name": "ipython",
    "version": 3
   },
   "file_extension": ".py",
   "mimetype": "text/x-python",
   "name": "python",
   "nbconvert_exporter": "python",
   "pygments_lexer": "ipython3",
   "version": "3.7.1"
  }
 },
 "nbformat": 4,
 "nbformat_minor": 2
}
