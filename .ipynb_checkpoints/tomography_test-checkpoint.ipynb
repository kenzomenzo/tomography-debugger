{
 "cells": [
  {
   "cell_type": "markdown",
   "metadata": {},
   "source": [
    "# CS269Q Tomography Debugger Project\n",
    "State tomography involves measuring a quantum state repeatedly in the bases given by `itertools.product(['X', 'Y', 'Z], repeat=n_qubits)`. From these measurements, we can reconstruct a density matrix $\\rho$. In this project we set out to create a debugging tool to perform state tomography. This project had two parts. The first was constructing a debuggin interface. We decided that our debugger would take the form of a function that could be called on a program and a list of qubits, and would then run tomography algorithms and output a density matrix. The second was choosing an appropriate advanced algorithm to perform state tomography. Since both linear inversion and MLE had already been implemented in the forest benchmarking tomography file (and since Bayesian estimates are apparently \"formidable\" for quantum states!), we decided to go with matrix completion/compressed sensing methods."
   ]
  },
  {
   "cell_type": "markdown",
   "metadata": {},
   "source": [
    "# Relevant Papers & Resources:\n",
    "\n",
    "[Final Project Instructions](https://cs269q.stanford.edu/hw_and_proj/final_project.pdf)\n",
    "\n",
    "[Ultra jank state tomography from lecture 6](https://cs269q.stanford.edu/lectures/lecture6.pdf)\n",
    "\n",
    "[Quantum state tomography via compressed sensing](https://arxiv.org/pdf/0909.3304.pdf)\n",
    "\n",
    "[NMR Techniques for Quantum Control and Computation](https://arxiv.org/pdf/quant-ph/0404064.pdf)\n",
    "\n",
    "[Efficient quantum state tomography](https://www.nature.com/articles/ncomms1147.pdf)\n",
    "\n",
    "[Quantum Tomography via Compressed Sensing: Error Bounds, Sample Complexity, and Efficient Estimators](https://arxiv.org/pdf/1205.2300.pdf)\n",
    "\n",
    "[Quantum Tomography Wikipedia](https://en.wikipedia.org/wiki/Quantum_tomography#Linear_inversion)\n",
    "\n",
    "[Forest Benchmarking tomograph.py](https://github.com/rigetti/forest-benchmarking/blob/master/forest/benchmarking/tomography.py)\n",
    "\n",
    "[PyQuil operator-estimation.py](https://github.com/rigetti/pyquil/blob/master/pyquil/operator_estimation.py)\n",
    "\n",
    "[Initialization and characterization of open quantum systems](https://uwspace.uwaterloo.ca/bitstream/handle/10012/9557/wood_christopher.pdf?sequence=3&isAllowed=y) (section 3.4)\n"
   ]
  },
  {
   "cell_type": "markdown",
   "metadata": {},
   "source": [
    "## TO DO:\n",
    "\n",
    "<input type=\"checkbox\"> Get basic debugging function working with linear inversion\n",
    "\n",
    "<input type=\"checkbox\"> Make sure we have the most recent version of forest sdk - seems like files on github are different from the sdk we have!\n",
    "\n",
    "<input type=\"checkbox\"> Program the compressed sensing algorithm from [Quantum state tomography via compressed sensing](https://arxiv.org/pdf/0909.3304.pdf)\n",
    "\n",
    "<input type=\"checkbox\"> Decide if we want to program a second tomography algorithm\n",
    "\n",
    "<input type=\"checkbox\"> Figure out exactly how the debugger will work! Will it just be a function?\n",
    "\n",
    "<input type=\"checkbox\"> Profile the characteristics of our tomography debugger when faced with noise!\n",
    "\n",
    "<input type=\"checkbox\"> Change the debugger class to take a qc as an input? Then it can run any program that is given to it on a qvm or a qpu (which is desired functionality!)\n",
    "\n",
    "<input type=\"checkbox\"> Write final report"
   ]
  },
  {
   "cell_type": "code",
   "execution_count": 244,
   "metadata": {},
   "outputs": [],
   "source": [
    "import numpy as np\n",
    "import imp\n",
    "from pyquil import Program, get_qc\n",
    "from pyquil.gates import *\n",
    "from forest.benchmarking.tomography import *\n",
    "from pyquil.operator_estimation import *\n",
    "from forest.benchmarking.compilation import basic_compile\n",
    "from scipy.optimize import minimize\n",
    "import random\n",
    "\n",
    "from typing import Union, List\n",
    "\n",
    "from pyquil.gate_matrices import SWAP, QUANTUM_GATES, STATES\n",
    "from pyquil.operator_estimation import TensorProductState\n",
    "from pyquil.paulis import PauliSum, PauliTerm\n",
    "from pyquil.quilbase import Gate\n",
    "\n",
    "import cvxpy as cp"
   ]
  },
  {
   "cell_type": "markdown",
   "metadata": {},
   "source": [
    "## Tomography Debugger Class\n",
    "This class provides a single method which takes in a program and a list of qubit indices to tomographize and returns the corresponding density matrix."
   ]
  },
  {
   "cell_type": "code",
   "execution_count": 306,
   "metadata": {},
   "outputs": [],
   "source": [
    "class TomographyDebugger:\n",
    "    def __init__(self):\n",
    "        self.n_shots = 1000\n",
    "        #i, x, y, z following the paper\n",
    "        self.paulis = [np.array([[1,0],[0,1]]), np.array([[0,1],[1,0]]), np.array([[0,-1j],[1j,0]]), np.array([[1,0],[0,-1]])]\n",
    "    \n",
    "    def advanced_tomography_function(self, results: List[ExperimentResult], qubits: List[int]):\n",
    "        qubit_num = len(qubits)\n",
    "        d = 2 ** qubit_num\n",
    "        pauli_expectation_list = []\n",
    "\n",
    "        for r in results:\n",
    "            #Convert the Pauli term into a tensor\n",
    "            p_tensor = lifted_pauli(r.setting.out_operator, qubits)\n",
    "            e = r.expectation\n",
    "            pauli_expectation_list.append((p_tensor, e))\n",
    "        \n",
    "        def trace_eval(s):\n",
    "            tr_sum = 0\n",
    "            e_sum = 0\n",
    "            for pauli, e in pauli_expectation_list:\n",
    "                tr_sum += cp.trace(cp.matmul(pauli, s))\n",
    "                e_sum += e\n",
    "\n",
    "            return tr_sum - e_sum == 0\n",
    "        \n",
    "        s = cp.Variable((d,d))\n",
    "        \n",
    "        obj = cp.Minimize(cp.norm(s))\n",
    "        constraints = [cp.trace(s) == 1, trace_eval(s)]\n",
    "        \n",
    "        # Form and solve problem.\n",
    "        prob = cp.Problem(obj, constraints)\n",
    "        prob.solve()\n",
    "        rho = s.value\n",
    "        \n",
    "#         def toVector(s, p):\n",
    "#             return np.hstack([s.flatten(), p.flatten()])\n",
    "        \n",
    "#         def toMatrix(vec):\n",
    "#             return vec[:d*d].reshape(d,d), vec[d*d:].reshape(d,d)\n",
    "        \n",
    "#         #Return value must be 0 for a constraint to be fulfilled\n",
    "\n",
    "#         def trace_constraint(vec):\n",
    "#             s, p = toMatrix(vec)\n",
    "#             return np.trace(s) - 1\n",
    "        \n",
    "#         def trace_equality_constraint(vec):\n",
    "#             s, p = toMatrix(vec)\n",
    "#             tr_sum = 0\n",
    "#             for p, e in pauli_expectation_list:\n",
    "#                 tr_sum += (np.trace(p.dot(s)) - e)\n",
    "            \n",
    "#             return tr_sum\n",
    "        \n",
    "#         def f(vec):\n",
    "#             s_flat = vec[:d*d]\n",
    "#             return sum(s_flat)\n",
    "        \n",
    "#         #Start with 0.5 as my guess parameter\n",
    "#         initial_guess = np.full((2*d*d), 0.25)\n",
    "\n",
    "#         cons = [{'type':'eq', 'fun': trace_constraint},\n",
    "#         {'type':'eq', 'fun': trace_equality_constraint}]\n",
    "        \n",
    "#         result = minimize(f, initial_guess, method='SLSQP', constraints=cons)\n",
    "#         print(result)\n",
    "        \n",
    "        return rho\n",
    "        \n",
    "        #return linear_inv_state_estimate(results=results, qubits=qubits)\n",
    "\n",
    "    def tomographize(self, program: Program, qubits: List[int]):\n",
    "        #Generate experiments\n",
    "        experiment = generate_state_tomography_experiment(program=program, qubits=qubits)\n",
    "\n",
    "        #Group experiments if possible to minimize QPU runs\n",
    "        #experiment = group_experiments(experiment)\n",
    "\n",
    "        #NOTE: Change qvm depending on whether we are simulating qvm\n",
    "        qc = get_qc('%dq-qvm' % len(qubits))\n",
    "        qc.compiler.quil_to_native_quil = basic_compile\n",
    "\n",
    "        results = list(measure_observables(qc=qc, tomo_experiment=experiment, n_shots=self.n_shots))\n",
    "\n",
    "        rho = self.advanced_tomography_function(results=results, qubits=qubits)\n",
    "        return np.around(rho, decimals=3)"
   ]
  },
  {
   "cell_type": "markdown",
   "metadata": {},
   "source": [
    "## Construct a state with a `Program`\n",
    "We'll construct a two-qubit graph state by Hadamarding all qubits and then applying a controlled-Z operation across edges of our graph. In the two-qubit case, there's only one edge. "
   ]
  },
  {
   "cell_type": "code",
   "execution_count": 307,
   "metadata": {},
   "outputs": [
    {
     "name": "stdout",
     "output_type": "stream",
     "text": [
      "H 0\n",
      "H 1\n",
      "\n"
     ]
    }
   ],
   "source": [
    "#More complex example!\n",
    "# qubits = [0, 1, 5]\n",
    "\n",
    "# program = Program()\n",
    "# for qubit in qubits:\n",
    "#     program += H(qubit)\n",
    "# program += CZ(qubits[0], qubits[1])\n",
    "# program += X(qubits[1])\n",
    "# program += RX(-np.pi/2, qubits[2])\n",
    "# program += RY(-np.pi/2, qubits[0])\n",
    "# program += X(qubits[2])\n",
    "# program += CNOT(qubits[2], qubits[0])\n",
    "# program += CZ(qubits[1], qubits[0])\n",
    "# program += H(qubits[2])\n",
    "\n",
    "qubits = [0, 1]\n",
    "\n",
    "program = Program()\n",
    "for qubit in qubits:\n",
    "    program += H(qubit)\n",
    "# program += CZ(qubits[0], qubits[1])\n",
    "# program += X(qubits[1])\n",
    "# program += RX(-np.pi/2, qubits[1])\n",
    "# program += RY(-np.pi/2, qubits[0])\n",
    "# program += X(qubits[1])\n",
    "# program += CNOT(qubits[1], qubits[0])\n",
    "# program += CZ(qubits[1], qubits[0])\n",
    "# program += H(qubits[0])\n",
    "\n",
    "print(program)"
   ]
  },
  {
   "cell_type": "markdown",
   "metadata": {},
   "source": [
    "## Run the tomography debugger and print output"
   ]
  },
  {
   "cell_type": "code",
   "execution_count": 308,
   "metadata": {},
   "outputs": [
    {
     "name": "stdout",
     "output_type": "stream",
     "text": [
      "Tomography took 1.29638s\n",
      "Recovered density matrix:\n",
      "\n",
      "[[ 0.493  0.     0.    -0.   ]\n",
      " [ 0.     0.007  0.486  0.   ]\n",
      " [ 0.     0.486  0.007  0.   ]\n",
      " [-0.     0.     0.     0.493]]\n"
     ]
    }
   ],
   "source": [
    "import time\n",
    "\n",
    "start = time.time()\n",
    "debugger = TomographyDebugger()\n",
    "rho = debugger.tomographize(program, qubits)\n",
    "end = time.time() - start\n",
    "print(\"Tomography took %gs\" % end)\n",
    "print(\"Recovered density matrix:\\n\")\n",
    "print(rho)"
   ]
  },
  {
   "cell_type": "markdown",
   "metadata": {},
   "source": [
    "## Compare results to true output obtained using wavefunction simulator"
   ]
  },
  {
   "cell_type": "code",
   "execution_count": 309,
   "metadata": {},
   "outputs": [
    {
     "name": "stdout",
     "output_type": "stream",
     "text": [
      "[[0.25+0.j 0.25+0.j 0.25+0.j 0.25+0.j]\n",
      " [0.25+0.j 0.25+0.j 0.25+0.j 0.25+0.j]\n",
      " [0.25+0.j 0.25+0.j 0.25+0.j 0.25+0.j]\n",
      " [0.25+0.j 0.25+0.j 0.25+0.j 0.25+0.j]]\n"
     ]
    }
   ],
   "source": [
    "from pyquil.api import WavefunctionSimulator\n",
    "wf_sim = WavefunctionSimulator()\n",
    "wf = wf_sim.wavefunction(program)\n",
    "psi = wf.amplitudes\n",
    "\n",
    "rho_true = np.outer(psi, psi.T.conj())\n",
    "print(np.around(rho_true, decimals=3))"
   ]
  },
  {
   "cell_type": "markdown",
   "metadata": {},
   "source": [
    "## Visualize using Hinton plots"
   ]
  },
  {
   "cell_type": "code",
   "execution_count": 310,
   "metadata": {},
   "outputs": [
    {
     "data": {
      "image/png": "[encoded data removed]",
      "text/plain": [
       "<Figure size 432x288 with 2 Axes>"
      ]
     },
     "metadata": {},
     "output_type": "display_data"
    }
   ],
   "source": [
    "from matplotlib import pyplot as plt\n",
    "from forest.benchmarking.plotting import hinton\n",
    "fig, (ax1, ax2) = plt.subplots(1, 2)\n",
    "hinton(rho_true, ax=ax1)\n",
    "hinton(rho, ax=ax2)\n",
    "ax1.set_title('Analytical')\n",
    "ax2.set_title('Estimated')\n",
    "fig.tight_layout()"
   ]
  },
  {
   "cell_type": "markdown",
   "metadata": {},
   "source": [
    "## Calculate matrix norm between true and estimated rho"
   ]
  },
  {
   "cell_type": "code",
   "execution_count": 311,
   "metadata": {},
   "outputs": [
    {
     "name": "stdout",
     "output_type": "stream",
     "text": [
      "0.986198762927636\n"
     ]
    }
   ],
   "source": [
    "print(np.linalg.norm(rho - rho_true))"
   ]
  },
  {
   "cell_type": "code",
   "execution_count": null,
   "metadata": {},
   "outputs": [],
   "source": []
  }
 ],
 "metadata": {
  "kernelspec": {
   "display_name": "Python 3",
   "language": "python",
   "name": "python3"
  },
  "language_info": {
   "codemirror_mode": {
    "name": "ipython",
    "version": 3
   },
   "file_extension": ".py",
   "mimetype": "text/x-python",
   "name": "python",
   "nbconvert_exporter": "python",
   "pygments_lexer": "ipython3",
   "version": "3.7.1"
  }
 },
 "nbformat": 4,
 "nbformat_minor": 2
}
