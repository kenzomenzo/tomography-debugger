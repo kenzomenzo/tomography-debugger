{
 "cells": [
  {
   "cell_type": "markdown",
   "metadata": {},
   "source": [
    "# CS269Q Tomography Debugger Project\n",
    "State tomography involves measuring a quantum state repeatedly in the bases given by `itertools.product(['X', 'Y', 'Z], repeat=n_qubits)`. From these measurements, we can reconstruct a density matrix $\\rho$. In this project we set out to create a debugging tool to perform state tomography. This project had two parts. The first was constructing a debuggin interface. We decided that our debugger would take the form of a function that could be called on a program and a list of qubits, and would then run tomography algorithms and output a density matrix. The second was choosing an appropriate advanced algorithm to perform state tomography. Since both linear inversion and MLE had already been implemented in the forest benchmarking tomography file (and since Bayesian estimates are apparently \"formidable\" for quantum states!), we decided to go with matrix completion/compressed sensing methods."
   ]
  },
  {
   "cell_type": "markdown",
   "metadata": {},
   "source": [
    "# Relevant Papers & Resources:\n",
    "\n",
    "[Final Project Instructions](https://cs269q.stanford.edu/hw_and_proj/final_project.pdf)\n",
    "\n",
    "[Ultra jank state tomography from lecture 6](https://cs269q.stanford.edu/lectures/lecture6.pdf)\n",
    "\n",
    "[Quantum state tomography via compressed sensing](https://arxiv.org/pdf/0909.3304.pdf)\n",
    "\n",
    "[NMR Techniques for Quantum Control and Computation](https://arxiv.org/pdf/quant-ph/0404064.pdf)\n",
    "\n",
    "[Efficient quantum state tomography](https://www.nature.com/articles/ncomms1147.pdf)\n",
    "\n",
    "[Quantum Tomography via Compressed Sensing: Error Bounds, Sample Complexity, and Efficient Estimators](https://arxiv.org/pdf/1205.2300.pdf)\n",
    "\n",
    "[Quantum Tomography Wikipedia](https://en.wikipedia.org/wiki/Quantum_tomography#Linear_inversion)\n",
    "\n",
    "[Forest Benchmarking tomograph.py](https://github.com/rigetti/forest-benchmarking/blob/master/forest/benchmarking/tomography.py)\n",
    "\n",
    "[PyQuil operator-estimation.py](https://github.com/rigetti/pyquil/blob/master/pyquil/operator_estimation.py)\n",
    "\n",
    "[Initialization and characterization of open quantum systems](https://uwspace.uwaterloo.ca/bitstream/handle/10012/9557/wood_christopher.pdf?sequence=3&isAllowed=y) (section 3.4)\n"
   ]
  },
  {
   "cell_type": "code",
   "execution_count": 1,
   "metadata": {},
   "outputs": [],
   "source": [
    "import numpy as np\n",
    "import imp\n",
    "from pyquil import Program, get_qc\n",
    "from pyquil.gates import *\n",
    "from forest.benchmarking.tomography import *\n",
    "from pyquil.operator_estimation import *\n",
    "from forest.benchmarking.compilation import basic_compile\n",
    "from scipy.optimize import minimize\n",
    "import random\n",
    "\n",
    "from typing import Union, List\n",
    "\n",
    "from pyquil.gate_matrices import SWAP, QUANTUM_GATES, STATES\n",
    "from pyquil.operator_estimation import TensorProductState\n",
    "from pyquil.paulis import PauliSum, PauliTerm\n",
    "from pyquil.quilbase import Gate\n",
    "\n",
    "import cvxpy as cp\n",
    "\n",
    "from pyquil.operator_estimation import TomographyExperiment as PyQuilTomographyExperiment"
   ]
  },
  {
   "cell_type": "markdown",
   "metadata": {},
   "source": [
    "## Tomography Debugger Class\n",
    "This class provides a single method which takes in a program and a list of qubit indices to tomographize and returns the corresponding density matrix."
   ]
  },
  {
   "cell_type": "code",
   "execution_count": 329,
   "metadata": {},
   "outputs": [],
   "source": [
    "class TomographyDebugger:\n",
    "    def __init__(self):\n",
    "        pass\n",
    "\n",
    "    def generate_rho(self, t_type, m, results: List[ExperimentResult], qubits: List[int]):\n",
    "        qubit_num = len(qubits)\n",
    "        d = 2 ** qubit_num\n",
    "        pauli_list = []\n",
    "        expectation_list = []\n",
    "        y = np.zeros((m,1))\n",
    "\n",
    "        if t_type == \"lasso\":\n",
    "\n",
    "            mu = 4 * m / np.sqrt(1000 * m)\n",
    "                    \n",
    "            for i in range(m):\n",
    "                #Convert the Pauli term into a tensor\n",
    "                r = results[i]\n",
    "                p_tensor = lifted_pauli(r.setting.out_operator, qubits)\n",
    "                e = r.expectation\n",
    "                y[i] = e\n",
    "                pauli_list.append(p_tensor)\n",
    "                expectation_list.append(e)\n",
    "            \n",
    "            x = cp.Variable((d,d),complex = True)\n",
    "            A = cp.vstack([cp.trace(cp.matmul(pauli_list[i], x)) * np.sqrt(d / m) for i in range(m)])\n",
    "            \n",
    "            #Minimize trace norm\n",
    "            obj = cp.Minimize(0.5 * cp.norm((A - y), 2) + mu * cp.norm(x, 'nuc'))\n",
    "            constraints = [cp.trace(x) == 1]\n",
    "\n",
    "            # Form and solve problem.\n",
    "            prob = cp.Problem(obj, constraints)\n",
    "            prob.solve()\n",
    "            rho = x.value\n",
    "\n",
    "            return rho\n",
    "            \n",
    "        if t_type == 'compressed':\n",
    "            for i in range(m):\n",
    "                #Convert the Pauli term into a tensor\n",
    "                r = results[i]\n",
    "                p_tensor = lifted_pauli(r.setting.out_operator, qubits)\n",
    "                e = r.expectation\n",
    "                pauli_list.append(p_tensor)\n",
    "                expectation_list.append(e)\n",
    "                \n",
    "            s = cp.Variable((d,d),complex = True)\n",
    "        \n",
    "            obj = cp.Minimize(cp.norm(s, 'nuc'))\n",
    "            constraints = [cp.trace(s) == 1]\n",
    "            \n",
    "            for i in range(len(pauli_list)):\n",
    "                trace_bool = cp.trace(cp.matmul(pauli_list[i], s)) - expectation_list[i] == 0\n",
    "                constraints.append(trace_bool)\n",
    "\n",
    "            # Form and solve problem.\n",
    "            prob = cp.Problem(obj, constraints)\n",
    "            prob.solve()\n",
    "            rho = s.value\n",
    "\n",
    "            return rho\n",
    "        \n",
    "        elif t_type == \"linear_inv\":\n",
    "            return linear_inv_state_estimate(results=results, qubits=qubits)\n",
    "\n",
    "    def tomographize(self, t_type, m, program: Program, qubits: List[int], num_shots=1000):\n",
    "        #Generate experiments\n",
    "        qubit_experiments = generate_state_tomography_experiment(program=program, qubits=qubits)\n",
    "        \n",
    "        exp_list = []\n",
    "        #Experiment holds all 2^n possible pauli matrices for the given number of qubits\n",
    "        #Now take m random pauli matrices as per the paper's advice\n",
    "        if (m > len(qubit_experiments)):\n",
    "            print(\"Cannot sample more Pauli matrices thatn d^2!\")\n",
    "            return None\n",
    "        exp_list = random.sample(list(qubit_experiments), m)\n",
    "        \n",
    "        input_exp = PyQuilTomographyExperiment(settings=exp_list, program=program)\n",
    "\n",
    "        #NOTE: Change qvm depending on whether we are simulating qvm\n",
    "        qc = get_qc('%dq-qvm' % len(qubits))\n",
    "        qc.compiler.quil_to_native_quil = basic_compile\n",
    "        \n",
    "        #Group experiments if possible to minimize QPU runs\n",
    "        input_exp = group_experiments(input_exp)\n",
    "\n",
    "        results = list(measure_observables(qc=qc, tomo_experiment=input_exp, n_shots=num_shots))\n",
    "\n",
    "        rho = self.generate_rho(t_type, m, results=results, qubits=qubits)\n",
    "        return rho"
   ]
  },
  {
   "cell_type": "markdown",
   "metadata": {},
   "source": [
    "## Construct a state with a `Program`\n",
    "We'll construct a two-qubit graph state by Hadamarding all qubits and then applying a controlled-Z operation across edges of our graph. In the two-qubit case, there's only one edge. "
   ]
  },
  {
   "cell_type": "code",
   "execution_count": 330,
   "metadata": {},
   "outputs": [
    {
     "name": "stdout",
     "output_type": "stream",
     "text": [
      "H 0\n",
      "H 1\n",
      "H 2\n",
      "CZ 0 2\n",
      "RY(-pi/2) 0\n",
      "X 2\n",
      "CNOT 1 2\n",
      "\n"
     ]
    }
   ],
   "source": [
    "qubits = [0, 1, 2]\n",
    "\n",
    "program = Program()\n",
    "for qubit in qubits:\n",
    "    program += H(qubit)\n",
    "program += CZ(qubits[0], qubits[2])\n",
    "program += RY(-np.pi/2, qubits[0])\n",
    "program += X(qubits[2])\n",
    "program += CNOT(qubits[1], qubits[2])\n",
    "\n",
    "print(program)"
   ]
  },
  {
   "cell_type": "markdown",
   "metadata": {},
   "source": [
    "## Run the tomography debugger and print output"
   ]
  },
  {
   "cell_type": "code",
   "execution_count": 335,
   "metadata": {},
   "outputs": [
    {
     "name": "stdout",
     "output_type": "stream",
     "text": [
      "[[ 0.13   +1.46941613e-17j -0.005  +3.00000000e-03j\n",
      "  -0.00475+1.12870531e-16j  0.1265 -1.25000000e-03j\n",
      "   0.007  +1.50000000e-03j -0.0045 -2.50000000e-04j\n",
      "  -0.00275-4.50000000e-03j  0.004  +7.00000000e-03j]\n",
      " [-0.005  -3.00000000e-03j  0.132  +5.82269251e-17j\n",
      "  -0.1265 +1.25000000e-03j  0.00725-1.30604850e-17j\n",
      "  -0.249  -3.25000000e-03j -0.0025 -1.50000000e-03j\n",
      "  -0.004  -7.00000000e-03j -0.00275-5.00000000e-04j]\n",
      " [-0.00475-1.82008782e-17j -0.1265 -1.25000000e-03j\n",
      "   0.118  -1.99818401e-17j -0.005  -4.50000000e-03j\n",
      "   0.00275+9.50000000e-03j -0.004  -7.00000000e-03j\n",
      "   0.0025 +1.50000000e-03j -0.251  +3.25000000e-03j]\n",
      " [ 0.1265 +1.25000000e-03j  0.00725+3.14068217e-17j\n",
      "  -0.005  +4.50000000e-03j  0.12   +4.22486350e-18j\n",
      "   0.004  +7.00000000e-03j  0.00275+4.50000000e-03j\n",
      "   0.0045 +2.50000000e-04j -0.007  -1.50000000e-03j]\n",
      " [ 0.007  -1.50000000e-03j -0.249  +3.25000000e-03j\n",
      "   0.00275-9.50000000e-03j  0.004  -7.00000000e-03j\n",
      "   0.11   -4.93797778e-18j -0.005  -3.00000000e-03j\n",
      "  -0.00775-4.23180696e-17j -0.1235 -5.75000000e-03j]\n",
      " [-0.0045 +2.50000000e-04j -0.0025 +1.50000000e-03j\n",
      "  -0.004  +7.00000000e-03j  0.00275-4.50000000e-03j\n",
      "  -0.005  +3.00000000e-03j  0.134  -3.45407702e-17j\n",
      "   0.1235 -8.25000000e-03j  0.00525+5.33751767e-17j]\n",
      " [-0.00275+4.50000000e-03j -0.004  +7.00000000e-03j\n",
      "   0.0025 -1.50000000e-03j  0.0045 -2.50000000e-04j\n",
      "  -0.00775-4.23180696e-17j  0.1235 +8.25000000e-03j\n",
      "   0.116  +3.42232004e-17j -0.005  +4.50000000e-03j]\n",
      " [ 0.004  -7.00000000e-03j -0.00275+5.00000000e-04j\n",
      "  -0.251  -3.25000000e-03j -0.007  +1.50000000e-03j\n",
      "  -0.1235 +5.75000000e-03j  0.00525+5.33751767e-17j\n",
      "  -0.005  -4.50000000e-03j  0.14   +1.49836460e-17j]]\n",
      "Recovered compressed density matrix:\n",
      "\n",
      "[[ 4.00776403e-03-5.92777642e-16j  4.33987766e-03-1.04988399e-02j\n",
      "   2.10962554e-03+1.77785280e-02j  3.79255570e-03+6.67016155e-04j\n",
      "  -2.90688457e-03+8.08833931e-03j  2.92240374e-04-3.32159288e-03j\n",
      "  -1.77016775e-03-5.05342904e-04j -8.77661128e-03-9.23347537e-03j]\n",
      " [ 4.33987766e-03+1.04988399e-02j  2.33155797e-01+3.87092937e-16j\n",
      "  -2.42211788e-01+7.12432853e-04j -2.81666531e-03-6.25059298e-04j\n",
      "  -2.42797389e-01+5.32541288e-03j -2.53461748e-03-1.56250785e-02j\n",
      "  -7.24855791e-04-1.00237567e-02j  2.44896932e-01+3.99986439e-03j]\n",
      " [ 2.10962554e-03-1.77785280e-02j -2.42211788e-01-7.12432853e-04j\n",
      "   2.57348098e-01-3.17283866e-16j  1.33983737e-03-6.49613509e-03j\n",
      "   2.51010713e-01-7.50086164e-03j -8.22410655e-03+1.48297713e-02j\n",
      "  -6.67173377e-04+4.08792068e-03j -2.57209337e-01+5.67310144e-03j]\n",
      " [ 3.79255570e-03-6.67016155e-04j -2.81666531e-03+6.25059298e-04j\n",
      "   1.33983737e-03+6.49613509e-03j -5.18595115e-04+7.43232755e-16j\n",
      "   4.72113408e-03-2.38397385e-03j -2.31473741e-03+5.17459595e-06j\n",
      "  -2.95170999e-04-3.67451368e-03j -8.28876373e-03-3.56498136e-03j]\n",
      " [-2.90688457e-03-8.08833931e-03j -2.42797389e-01-5.32541288e-03j\n",
      "   2.51010713e-01+7.50086164e-03j  4.72113408e-03+2.38397385e-03j\n",
      "   2.49984191e-01+7.80969322e-16j  5.15861154e-03+1.39922875e-02j\n",
      "   4.47470202e-03+9.64406617e-03j -2.50549570e-01-1.18272842e-02j]\n",
      " [ 2.92240374e-04+3.32159288e-03j -2.53461748e-03+1.56250785e-02j\n",
      "  -8.22410655e-03-1.48297713e-02j -2.31473741e-03-5.17459595e-06j\n",
      "   5.15861154e-03-1.39922875e-02j -1.54321090e-04-5.77405831e-16j\n",
      "   3.45422624e-03-2.78517918e-03j  2.11226995e-03+5.04734595e-03j]\n",
      " [-1.77016775e-03+5.05342904e-04j -7.24855791e-04+1.00237567e-02j\n",
      "  -6.67173377e-04-4.08792068e-03j -2.95170999e-04+3.67451368e-03j\n",
      "   4.47470202e-03-9.64406617e-03j  3.45422624e-03+2.78517918e-03j\n",
      "  -3.34889332e-03+3.46472394e-16j -8.84210393e-03+5.43757705e-06j]\n",
      " [-8.77661128e-03+9.23347537e-03j  2.44896932e-01-3.99986439e-03j\n",
      "  -2.57209337e-01-5.67310144e-03j -8.28876373e-03+3.56498136e-03j\n",
      "  -2.50549570e-01+1.18272842e-02j  2.11226995e-03-5.04734595e-03j\n",
      "  -8.84210393e-03-5.43757705e-06j  2.59522889e-01-8.91166992e-16j]]\n",
      "Recovered lasso density matrix:\n",
      "\n",
      "[[ 8.91059844e-05-6.09495819e-16j  3.05266414e-03+3.46648134e-03j\n",
      "  -3.05597429e-03-3.56453223e-03j -8.26573521e-05+2.14610512e-05j\n",
      "  -3.09222875e-03-3.49095897e-03j  1.52813787e-05+5.95868990e-05j\n",
      "  -9.47069959e-05+2.72482043e-05j  3.26430343e-03+3.64181507e-03j]\n",
      " [ 3.05266414e-03-3.46648134e-03j  2.39530060e-01+2.85601228e-16j\n",
      "  -2.43448625e-01-3.22566598e-03j -2.00502639e-03+3.97128930e-03j\n",
      "  -2.41827076e-01+6.85714667e-04j  2.84629688e-03+1.44307090e-03j\n",
      "  -2.18062522e-03+4.62319746e-03j  2.53605216e-01-2.21716755e-03j]\n",
      " [-3.05597429e-03+3.56453223e-03j -2.43448625e-01+3.22566598e-03j\n",
      "   2.47472976e-01-1.90232050e-16j  1.98407012e-03-4.06342667e-03j\n",
      "   2.45773351e-01-3.95379562e-03j -2.91231207e-03-1.42863158e-03j\n",
      "   2.15423178e-03-4.72819103e-03j -2.57723059e-01+5.66891671e-03j]\n",
      " [-8.26573521e-05-2.14610512e-05j -2.00502639e-03-3.97128930e-03j\n",
      "   1.98407012e-03+4.06342667e-03j  8.26451613e-05+4.71279500e-16j\n",
      "   2.03551296e-03+4.00353826e-03j  9.99733436e-08-5.91536190e-05j\n",
      "   9.50202924e-05-2.54544302e-06j -2.15947269e-03-4.18636458e-03j]\n",
      " [-3.09222875e-03+3.49095897e-03j -2.41827076e-01-6.85714667e-04j\n",
      "   2.45773351e-01+3.95379562e-03j  2.03551296e-03-4.00353826e-03j\n",
      "   2.44147167e-01+1.06334104e-15j -2.86931478e-03-1.46506778e-03j\n",
      "   2.21464503e-03-4.66178615e-03j -2.56042908e-01+1.51266003e-03j]\n",
      " [ 1.52813787e-05-5.95868990e-05j  2.84629688e-03-1.44307090e-03j\n",
      "  -2.91231207e-03+1.42863158e-03j  9.99733436e-08+5.91536190e-05j\n",
      "  -2.86931478e-03+1.46506778e-03j  4.25808165e-05+1.20055616e-16j\n",
      "   1.57065848e-06+6.79612403e-05j  3.00033328e-03-1.55425849e-03j]\n",
      " [-9.47069959e-05-2.72482043e-05j -2.18062522e-03-4.62319746e-03j\n",
      "   2.15423178e-03+4.72819103e-03j  9.50202924e-05+2.54544302e-06j\n",
      "   2.21464503e-03+4.66178615e-03j  1.57065848e-06-6.79612403e-05j\n",
      "   1.09165501e-04-1.05536403e-16j -2.35139236e-03-4.87477562e-03j]\n",
      " [ 3.26430343e-03-3.64181507e-03j  2.53605216e-01+2.21716755e-03j\n",
      "  -2.57723059e-01-5.66891671e-03j -2.15947269e-03+4.18636458e-03j\n",
      "  -2.56042908e-01-1.51266003e-03j  3.00033328e-03+1.55425849e-03j\n",
      "  -2.35139236e-03+4.87477562e-03j  2.68526439e-01-9.96023292e-16j]]\n"
     ]
    }
   ],
   "source": [
    "m = 32\n",
    "\n",
    "debugger = TomographyDebugger()\n",
    "rho_linear = debugger.tomographize(\"linear_inv\", m, program, qubits)\n",
    "print(rho_linear)\n",
    "\n",
    "rho_compressed = debugger.tomographize(\"compressed\", m, program, qubits)\n",
    "print(\"Recovered compressed density matrix:\\n\")\n",
    "print(rho_compressed)\n",
    "\n",
    "rho_lasso = debugger.tomographize(\"lasso\", m, program, qubits)\n",
    "print(\"Recovered lasso density matrix:\\n\")\n",
    "print(rho_lasso)"
   ]
  },
  {
   "cell_type": "markdown",
   "metadata": {},
   "source": [
    "## Compare results to true output obtained using wavefunction simulator"
   ]
  },
  {
   "cell_type": "code",
   "execution_count": 332,
   "metadata": {},
   "outputs": [
    {
     "name": "stdout",
     "output_type": "stream",
     "text": [
      "[[ 0.  +0.j -0.  -0.j  0.  +0.j  0.  +0.j  0.  +0.j  0.  +0.j  0.  +0.j\n",
      "  -0.  -0.j]\n",
      " [-0.  +0.j  0.25+0.j -0.25+0.j -0.  +0.j -0.25+0.j -0.  +0.j -0.  +0.j\n",
      "   0.25+0.j]\n",
      " [ 0.  +0.j -0.25-0.j  0.25+0.j  0.  +0.j  0.25+0.j  0.  +0.j  0.  +0.j\n",
      "  -0.25-0.j]\n",
      " [ 0.  +0.j -0.  -0.j  0.  +0.j  0.  +0.j  0.  +0.j  0.  +0.j  0.  +0.j\n",
      "  -0.  -0.j]\n",
      " [ 0.  +0.j -0.25-0.j  0.25+0.j  0.  +0.j  0.25+0.j  0.  +0.j  0.  +0.j\n",
      "  -0.25-0.j]\n",
      " [ 0.  +0.j -0.  -0.j  0.  +0.j  0.  +0.j  0.  +0.j  0.  +0.j  0.  +0.j\n",
      "  -0.  -0.j]\n",
      " [ 0.  +0.j -0.  -0.j  0.  +0.j  0.  +0.j  0.  +0.j  0.  +0.j  0.  +0.j\n",
      "  -0.  -0.j]\n",
      " [-0.  +0.j  0.25+0.j -0.25+0.j -0.  +0.j -0.25+0.j -0.  +0.j -0.  +0.j\n",
      "   0.25+0.j]]\n"
     ]
    }
   ],
   "source": [
    "from pyquil.api import WavefunctionSimulator\n",
    "wf_sim = WavefunctionSimulator()\n",
    "wf = wf_sim.wavefunction(program)\n",
    "psi = wf.amplitudes\n",
    "\n",
    "rho_true = np.outer(psi, psi.T.conj())\n",
    "print(np.around(rho_true, decimals=3))"
   ]
  },
  {
   "cell_type": "markdown",
   "metadata": {},
   "source": [
    "## Visualize using Hinton plots"
   ]
  },
  {
   "cell_type": "code",
   "execution_count": 333,
   "metadata": {},
   "outputs": [
    {
     "data": {
      "image/png": "[encoded data removed]",
      "text/plain": [
       "<Figure size 432x288 with 4 Axes>"
      ]
     },
     "metadata": {},
     "output_type": "display_data"
    }
   ],
   "source": [
    "from matplotlib import pyplot as plt\n",
    "from forest.benchmarking.plotting import hinton\n",
    "fig, (ax1, ax2, ax3, ax4) = plt.subplots(1, 4)\n",
    "hinton(rho_true, ax=ax1)\n",
    "hinton(rho_linear, ax=ax2)\n",
    "hinton(rho_compressed, ax=ax3)\n",
    "hinton(rho_lasso, ax=ax4)\n",
    "ax1.set_title('Ground Truth')\n",
    "ax2.set_title('Linear')\n",
    "ax3.set_title('Compressed')\n",
    "ax4.set_title('Lasso')\n",
    "fig.tight_layout()"
   ]
  },
  {
   "cell_type": "markdown",
   "metadata": {},
   "source": [
    "## Calculate matrix norm between true and estimated rho"
   ]
  },
  {
   "cell_type": "code",
   "execution_count": 334,
   "metadata": {},
   "outputs": [
    {
     "name": "stdout",
     "output_type": "stream",
     "text": [
      "Linear norm:\n",
      "0.5041939111096045\n",
      "Compressed norm:\n",
      "0.09469354720259016\n",
      "Lasso norm:\n",
      "1.0904516061601754\n"
     ]
    }
   ],
   "source": [
    "print(\"Linear norm:\")\n",
    "print(np.linalg.norm(rho_linear - rho_true))\n",
    "print(\"Compressed norm:\")\n",
    "print(np.linalg.norm(rho_compressed - rho_true))\n",
    "print(\"Lasso norm:\")\n",
    "print(np.linalg.norm(rho_lasso - rho_true))"
   ]
  },
  {
   "cell_type": "markdown",
   "metadata": {},
   "source": [
    "## Plot graph of results for various measurement values"
   ]
  },
  {
   "cell_type": "code",
   "execution_count": 300,
   "metadata": {},
   "outputs": [
    {
     "name": "stdout",
     "output_type": "stream",
     "text": [
      "Analyzing performance of tomography algorithms on program:\n",
      "H 0\n",
      "H 1\n",
      "H 2\n",
      "CZ 0 2\n",
      "RY(-pi/2) 0\n",
      "X 2\n",
      "CNOT 1 2\n",
      "\n",
      "Running iteration for pauli number: 8\n",
      "Running iteration for pauli number: 16\n",
      "Running iteration for pauli number: 24\n",
      "Running iteration for pauli number: 32\n",
      "Running iteration for pauli number: 40\n",
      "Running iteration for pauli number: 48\n",
      "Running iteration for pauli number: 56\n"
     ]
    },
    {
     "data": {
      "image/png": "[encoded data removed]",
      "text/plain": [
       "<Figure size 432x288 with 1 Axes>"
      ]
     },
     "metadata": {
      "needs_background": "light"
     },
     "output_type": "display_data"
    }
   ],
   "source": [
    "import matplotlib.pyplot as plt\n",
    "\n",
    "#max_pauli_num = 4 ** len(qubits)\n",
    "#max_pauli_num = 2\n",
    "num_trials = 10\n",
    "\n",
    "linear_norms = {}\n",
    "linear_norms['vals'] = []\n",
    "linear_norms['stds'] = []\n",
    "compressed_norms = {}\n",
    "compressed_norms['vals'] = []\n",
    "compressed_norms['stds'] = []\n",
    "lasso_norms = {}\n",
    "lasso_norms['vals'] = []\n",
    "lasso_norms['stds'] = []\n",
    "\n",
    "print(\"Analyzing performance of tomography algorithms on program:\")\n",
    "print(program)\n",
    "\n",
    "x = [i * 8 for i in range(1, 8)]\n",
    "\n",
    "for i in x:\n",
    "    print(\"Running iteration for pauli number: %d\" % i)\n",
    "    linear_vec = np.zeros((num_trials))\n",
    "    compressed_vec = np.zeros((num_trials))\n",
    "    lasso_vec = np.zeros((num_trials))\n",
    "    for j in range(num_trials):\n",
    "        rho_linear = debugger.tomographize(\"linear_inv\", i, program, qubits)\n",
    "        rho_compressed = debugger.tomographize(\"compressed\", i, program, qubits)\n",
    "        rho_lasso = debugger.tomographize(\"lasso\", i, program, qubits)\n",
    "        \n",
    "        linear_vec[j] = np.linalg.norm(rho_linear - rho_true)\n",
    "        compressed_vec[j] = np.linalg.norm(rho_compressed - rho_true)\n",
    "        lasso_vec[j] = np.linalg.norm(rho_lasso - rho_true)\n",
    "    \n",
    "    linear_norms['vals'].append(np.mean(linear_vec))\n",
    "    linear_norms['stds'].append(np.std(linear_vec))\n",
    "    compressed_norms['vals'].append(np.mean(compressed_vec))\n",
    "    compressed_norms['stds'].append(np.std(compressed_vec))\n",
    "    lasso_norms['vals'].append(np.mean(lasso_vec))\n",
    "    lasso_norms['stds'].append(np.std(lasso_vec))\n",
    "\n",
    "plt.errorbar(x, linear_norms['vals'], linear_norms['stds'], marker='^', label='linear')\n",
    "plt.errorbar(x, compressed_norms['vals'], compressed_norms['stds'], marker='^', label='compressed')\n",
    "plt.errorbar(x, lasso_norms['vals'], lasso_norms['stds'], marker='^', label='lasso')\n",
    "plt.legend()\n",
    "plt.show()"
   ]
  },
  {
   "cell_type": "markdown",
   "metadata": {},
   "source": [
    "## Now test with noise!"
   ]
  },
  {
   "cell_type": "code",
   "execution_count": 304,
   "metadata": {},
   "outputs": [],
   "source": [
    "with open('noise_model.quil', 'r') as file:\n",
    "    noise_model = file.read()"
   ]
  },
  {
   "cell_type": "code",
   "execution_count": 319,
   "metadata": {},
   "outputs": [
    {
     "name": "stdout",
     "output_type": "stream",
     "text": [
      "Recovered linear density matrix\n",
      "Recovered compressed density matrix\n",
      "Recovered lasso density matrix\n",
      "[[ 0.125+0.j     0.001-0.125j  0.125+0.001j  0.   +0.125j  0.126+0.001j\n",
      "   0.   +0.126j -0.125+0.j    -0.001+0.124j]\n",
      " [ 0.001+0.125j  0.124+0.j     0.   +0.125j -0.125+0.001j  0.   +0.126j\n",
      "  -0.125+0.001j -0.001-0.124j -0.124-0.j   ]\n",
      " [ 0.125-0.001j  0.   -0.125j  0.126+0.j     0.001+0.125j  0.126-0.j\n",
      "   0.001+0.126j -0.125+0.001j -0.   +0.124j]\n",
      " [ 0.   -0.125j -0.125-0.001j  0.001-0.125j  0.125+0.j     0.001-0.126j\n",
      "   0.125+0.j    -0.   +0.124j  0.124+0.001j]\n",
      " [ 0.126-0.001j  0.   -0.126j  0.126+0.j     0.001+0.126j  0.127+0.j\n",
      "   0.001+0.127j -0.125+0.001j -0.   +0.125j]\n",
      " [ 0.   -0.126j -0.125-0.001j  0.001-0.126j  0.125-0.j     0.001-0.127j\n",
      "   0.126+0.j    -0.   +0.125j  0.125+0.001j]\n",
      " [-0.125-0.j    -0.001+0.124j -0.125-0.001j -0.   -0.124j -0.125-0.001j\n",
      "  -0.   -0.125j  0.124+0.j     0.001-0.123j]\n",
      " [-0.001-0.124j -0.124+0.j    -0.   -0.124j  0.124-0.001j -0.   -0.125j\n",
      "   0.125-0.001j  0.001+0.123j  0.123+0.j   ]]\n",
      "Linear norm:\n",
      "0.7996929891743667\n",
      "Compressed norm:\n",
      "0.1391253926961596\n",
      "Lasso norm:\n",
      "0.07432499046969263\n"
     ]
    },
    {
     "data": {
      "image/png": "[encoded data removed]",
      "text/plain": [
       "<Figure size 432x288 with 4 Axes>"
      ]
     },
     "metadata": {},
     "output_type": "display_data"
    }
   ],
   "source": [
    "qubits = [0, 1, 2]\n",
    "\n",
    "program = Program()\n",
    "for qubit in qubits:\n",
    "    program += H(qubit)\n",
    "program += Program(\"NOISY-CZ 0 2\")\n",
    "program += Program(\"NOISY-RX-PLUS-90 1\")\n",
    "program += Program(\"NOISY-RX-MINUS-90 2\")\n",
    "program += Program(\"NOISY-CZ 1 2\")\n",
    "program += X(qubits[2])\n",
    "program += CNOT(qubits[1], qubits[2])\n",
    "\n",
    "program = Program(noise_model) + program\n",
    "\n",
    "m = 32\n",
    "\n",
    "debugger = TomographyDebugger()\n",
    "rho_linear = debugger.tomographize(\"linear_inv\", m, program, qubits)\n",
    "print(\"Recovered linear density matrix\")\n",
    "\n",
    "rho_compressed = debugger.tomographize(\"compressed\", m, program, qubits)\n",
    "print(\"Recovered compressed density matrix\")\n",
    "\n",
    "rho_lasso = debugger.tomographize(\"lasso\", m, program, qubits)\n",
    "print(\"Recovered lasso density matrix\")\n",
    "\n",
    "wf_sim = WavefunctionSimulator()\n",
    "wf = wf_sim.wavefunction(program)\n",
    "psi = wf.amplitudes\n",
    "\n",
    "rho_true = np.outer(psi, psi.T.conj())\n",
    "print(np.around(rho_true, decimals=3))\n",
    "\n",
    "fig, (ax1, ax2, ax3, ax4) = plt.subplots(1, 4)\n",
    "hinton(rho_true, ax=ax1)\n",
    "hinton(rho_linear, ax=ax2)\n",
    "hinton(rho_compressed, ax=ax3)\n",
    "hinton(rho_lasso, ax=ax4)\n",
    "ax1.set_title('Ground Truth')\n",
    "ax2.set_title('Linear')\n",
    "ax3.set_title('Compressed')\n",
    "ax4.set_title('Lasso')\n",
    "fig.tight_layout()\n",
    "\n",
    "print(\"Linear norm:\")\n",
    "print(np.linalg.norm(rho_linear - rho_true))\n",
    "print(\"Compressed norm:\")\n",
    "print(np.linalg.norm(rho_compressed - rho_true))\n",
    "print(\"Lasso norm:\")\n",
    "print(np.linalg.norm(rho_lasso - rho_true))"
   ]
  },
  {
   "cell_type": "markdown",
   "metadata": {},
   "source": [
    "## Noiseless version"
   ]
  },
  {
   "cell_type": "code",
   "execution_count": 320,
   "metadata": {},
   "outputs": [
    {
     "name": "stdout",
     "output_type": "stream",
     "text": [
      "Recovered linear density matrix\n",
      "Recovered compressed density matrix\n",
      "Recovered lasso density matrix\n",
      "[[ 0.125+0.j    -0.   -0.125j  0.125+0.j     0.   +0.125j  0.125+0.j\n",
      "   0.   +0.125j -0.125-0.j     0.   +0.125j]\n",
      " [-0.   +0.125j  0.125+0.j    -0.   +0.125j -0.125+0.j    -0.   +0.125j\n",
      "  -0.125+0.j     0.   -0.125j -0.125+0.j   ]\n",
      " [ 0.125+0.j    -0.   -0.125j  0.125+0.j     0.   +0.125j  0.125+0.j\n",
      "   0.   +0.125j -0.125-0.j     0.   +0.125j]\n",
      " [ 0.   -0.125j -0.125+0.j     0.   -0.125j  0.125+0.j     0.   -0.125j\n",
      "   0.125+0.j    -0.   +0.125j  0.125+0.j   ]\n",
      " [ 0.125+0.j    -0.   -0.125j  0.125+0.j     0.   +0.125j  0.125+0.j\n",
      "   0.   +0.125j -0.125-0.j     0.   +0.125j]\n",
      " [ 0.   -0.125j -0.125+0.j     0.   -0.125j  0.125+0.j     0.   -0.125j\n",
      "   0.125+0.j    -0.   +0.125j  0.125+0.j   ]\n",
      " [-0.125+0.j     0.   +0.125j -0.125+0.j    -0.   -0.125j -0.125+0.j\n",
      "  -0.   -0.125j  0.125+0.j    -0.   -0.125j]\n",
      " [ 0.   -0.125j -0.125+0.j     0.   -0.125j  0.125+0.j     0.   -0.125j\n",
      "   0.125+0.j    -0.   +0.125j  0.125+0.j   ]]\n",
      "Linear norm:\n",
      "0.7090775698046016\n",
      "Compressed norm:\n",
      "0.07828207714977642\n",
      "Lasso norm:\n",
      "0.04692999932592645\n"
     ]
    },
    {
     "data": {
      "image/png": "[encoded data removed]",
      "text/plain": [
       "<Figure size 432x288 with 4 Axes>"
      ]
     },
     "metadata": {},
     "output_type": "display_data"
    }
   ],
   "source": [
    "program = Program()\n",
    "for qubit in qubits:\n",
    "    program += H(qubit)\n",
    "program += CZ(0, 2)\n",
    "program += RX(np.pi/2, 1)\n",
    "program += RX(-np.pi/2, 2)\n",
    "program += CZ(1, 2)\n",
    "program += X(qubits[2])\n",
    "program += CNOT(qubits[1], qubits[2])\n",
    "\n",
    "m = 32\n",
    "\n",
    "debugger = TomographyDebugger()\n",
    "rho_linear = debugger.tomographize(\"linear_inv\", m, program, qubits)\n",
    "print(\"Recovered linear density matrix\")\n",
    "\n",
    "rho_compressed = debugger.tomographize(\"compressed\", m, program, qubits)\n",
    "print(\"Recovered compressed density matrix\")\n",
    "\n",
    "rho_lasso = debugger.tomographize(\"lasso\", m, program, qubits)\n",
    "print(\"Recovered lasso density matrix\")\n",
    "\n",
    "wf_sim = WavefunctionSimulator()\n",
    "wf = wf_sim.wavefunction(program)\n",
    "psi = wf.amplitudes\n",
    "\n",
    "rho_true = np.outer(psi, psi.T.conj())\n",
    "print(np.around(rho_true, decimals=3))\n",
    "\n",
    "fig, (ax1, ax2, ax3, ax4) = plt.subplots(1, 4)\n",
    "hinton(rho_true, ax=ax1)\n",
    "hinton(rho_linear, ax=ax2)\n",
    "hinton(rho_compressed, ax=ax3)\n",
    "hinton(rho_lasso, ax=ax4)\n",
    "ax1.set_title('Ground Truth')\n",
    "ax2.set_title('Linear')\n",
    "ax3.set_title('Compressed')\n",
    "ax4.set_title('Lasso')\n",
    "fig.tight_layout()\n",
    "\n",
    "print(\"Linear norm:\")\n",
    "print(np.linalg.norm(rho_linear - rho_true))\n",
    "print(\"Compressed norm:\")\n",
    "print(np.linalg.norm(rho_compressed - rho_true))\n",
    "print(\"Lasso norm:\")\n",
    "print(np.linalg.norm(rho_lasso - rho_true))"
   ]
  },
  {
   "cell_type": "markdown",
   "metadata": {},
   "source": [
    "## Plot graph of results for noiseless program"
   ]
  },
  {
   "cell_type": "code",
   "execution_count": 321,
   "metadata": {},
   "outputs": [
    {
     "name": "stdout",
     "output_type": "stream",
     "text": [
      "Analyzing performance of tomography algorithms on program:\n",
      "H 0\n",
      "H 1\n",
      "H 2\n",
      "CZ 0 2\n",
      "RX(pi/2) 1\n",
      "RX(-pi/2) 2\n",
      "CZ 1 2\n",
      "X 2\n",
      "CNOT 1 2\n",
      "\n",
      "Running iteration for pauli number: 8\n",
      "Running iteration for pauli number: 16\n",
      "Running iteration for pauli number: 24\n",
      "Running iteration for pauli number: 32\n"
     ]
    },
    {
     "data": {
      "image/png": "[encoded data removed]",
      "text/plain": [
       "<Figure size 432x288 with 1 Axes>"
      ]
     },
     "metadata": {
      "needs_background": "light"
     },
     "output_type": "display_data"
    }
   ],
   "source": [
    "qubits = [0, 1, 2]\n",
    "\n",
    "program = Program()\n",
    "for qubit in qubits:\n",
    "    program += H(qubit)\n",
    "program += CZ(0, 2)\n",
    "program += RX(np.pi/2, 1)\n",
    "program += RX(-np.pi/2, 2)\n",
    "program += CZ(1, 2)\n",
    "program += X(qubits[2])\n",
    "program += CNOT(qubits[1], qubits[2])\n",
    "\n",
    "debugger = TomographyDebugger()\n",
    "\n",
    "num_trials = 5\n",
    "\n",
    "linear_norms = {}\n",
    "linear_norms['vals'] = []\n",
    "linear_norms['stds'] = []\n",
    "compressed_norms = {}\n",
    "compressed_norms['vals'] = []\n",
    "compressed_norms['stds'] = []\n",
    "lasso_norms = {}\n",
    "lasso_norms['vals'] = []\n",
    "lasso_norms['stds'] = []\n",
    "\n",
    "print(\"Analyzing performance of tomography algorithms on program:\")\n",
    "print(program)\n",
    "\n",
    "x = [i * 8 for i in range(1, 5)]\n",
    "\n",
    "for i in x:\n",
    "    print(\"Running iteration for pauli number: %d\" % i)\n",
    "    linear_vec = np.zeros((num_trials))\n",
    "    compressed_vec = np.zeros((num_trials))\n",
    "    lasso_vec = np.zeros((num_trials))\n",
    "    for j in range(num_trials):\n",
    "        rho_linear = debugger.tomographize(\"linear_inv\", i, program, qubits)\n",
    "        rho_compressed = debugger.tomographize(\"compressed\", i, program, qubits)\n",
    "        rho_lasso = debugger.tomographize(\"lasso\", i, program, qubits)\n",
    "        \n",
    "        linear_vec[j] = np.linalg.norm(rho_linear - rho_true)\n",
    "        compressed_vec[j] = np.linalg.norm(rho_compressed - rho_true)\n",
    "        lasso_vec[j] = np.linalg.norm(rho_lasso - rho_true)\n",
    "    \n",
    "    linear_norms['vals'].append(np.mean(linear_vec))\n",
    "    linear_norms['stds'].append(np.std(linear_vec))\n",
    "    compressed_norms['vals'].append(np.mean(compressed_vec))\n",
    "    compressed_norms['stds'].append(np.std(compressed_vec))\n",
    "    lasso_norms['vals'].append(np.mean(lasso_vec))\n",
    "    lasso_norms['stds'].append(np.std(lasso_vec))\n",
    "\n",
    "plt.errorbar(x, linear_norms['vals'], linear_norms['stds'], marker='^', label='linear')\n",
    "plt.errorbar(x, compressed_norms['vals'], compressed_norms['stds'], marker='^', label='compressed')\n",
    "plt.errorbar(x, lasso_norms['vals'], lasso_norms['stds'], marker='^', label='lasso')\n",
    "plt.legend()\n",
    "plt.show()"
   ]
  },
  {
   "cell_type": "markdown",
   "metadata": {},
   "source": [
    "## Plot results for noisy program"
   ]
  },
  {
   "cell_type": "code",
   "execution_count": 325,
   "metadata": {},
   "outputs": [
    {
     "name": "stdout",
     "output_type": "stream",
     "text": [
      "Analyzing performance of tomography algorithms on program:\n",
      "H 0\n",
      "H 1\n",
      "H 2\n",
      "NOISY-CZ 0 2\n",
      "NOISY-RX-PLUS-90 1\n",
      "NOISY-RX-MINUS-90 2\n",
      "NOISY-CZ 1 2\n",
      "X 2\n",
      "CNOT 1 2\n",
      "\n",
      "Running iteration for pauli number: 8\n",
      "Running iteration for pauli number: 16\n",
      "Running iteration for pauli number: 24\n",
      "Running iteration for pauli number: 32\n"
     ]
    },
    {
     "data": {
      "image/png": "[encoded data removed]",
      "text/plain": [
       "<Figure size 432x288 with 1 Axes>"
      ]
     },
     "metadata": {
      "needs_background": "light"
     },
     "output_type": "display_data"
    }
   ],
   "source": [
    "qubits = [0, 1, 2]\n",
    "\n",
    "program = Program()\n",
    "for qubit in qubits:\n",
    "    program += H(qubit)\n",
    "program += Program(\"NOISY-CZ 0 2\")\n",
    "program += Program(\"NOISY-RX-PLUS-90 1\")\n",
    "program += Program(\"NOISY-RX-MINUS-90 2\")\n",
    "program += Program(\"NOISY-CZ 1 2\")\n",
    "program += X(qubits[2])\n",
    "program += CNOT(qubits[1], qubits[2])\n",
    "\n",
    "short_program = program #Useful for printing out the current program without too many noisy gates\n",
    "program = Program(noise_model) + program\n",
    "\n",
    "debugger = TomographyDebugger()\n",
    "\n",
    "#Noisy program takes longer to run so reduce num_trials\n",
    "num_trials = 2\n",
    "\n",
    "linear_norms = {}\n",
    "linear_norms['vals'] = []\n",
    "linear_norms['stds'] = []\n",
    "compressed_norms = {}\n",
    "compressed_norms['vals'] = []\n",
    "compressed_norms['stds'] = []\n",
    "lasso_norms = {}\n",
    "lasso_norms['vals'] = []\n",
    "lasso_norms['stds'] = []\n",
    "\n",
    "print(\"Analyzing performance of tomography algorithms on program:\")\n",
    "print(short_program)\n",
    "\n",
    "x = [i * 8 for i in range(1, 5)]\n",
    "\n",
    "for i in x:\n",
    "    print(\"Running iteration for pauli number: %d\" % i)\n",
    "    linear_vec = np.zeros((num_trials))\n",
    "    compressed_vec = np.zeros((num_trials))\n",
    "    lasso_vec = np.zeros((num_trials))\n",
    "    for j in range(num_trials):\n",
    "        rho_linear = debugger.tomographize(\"linear_inv\", i, program, qubits)\n",
    "        rho_compressed = debugger.tomographize(\"compressed\", i, program, qubits)\n",
    "        rho_lasso = debugger.tomographize(\"lasso\", i, program, qubits)\n",
    "        \n",
    "        linear_vec[j] = np.linalg.norm(rho_linear - rho_true)\n",
    "        compressed_vec[j] = np.linalg.norm(rho_compressed - rho_true)\n",
    "        lasso_vec[j] = np.linalg.norm(rho_lasso - rho_true)\n",
    "    \n",
    "    linear_norms['vals'].append(np.mean(linear_vec))\n",
    "    linear_norms['stds'].append(np.std(linear_vec))\n",
    "    compressed_norms['vals'].append(np.mean(compressed_vec))\n",
    "    compressed_norms['stds'].append(np.std(compressed_vec))\n",
    "    lasso_norms['vals'].append(np.mean(lasso_vec))\n",
    "    lasso_norms['stds'].append(np.std(lasso_vec))\n",
    "\n",
    "plt.errorbar(x, linear_norms['vals'], linear_norms['stds'], marker='^', label='linear')\n",
    "plt.errorbar(x, compressed_norms['vals'], compressed_norms['stds'], marker='^', label='compressed')\n",
    "plt.errorbar(x, lasso_norms['vals'], lasso_norms['stds'], marker='^', label='lasso')\n",
    "plt.legend()\n",
    "plt.show()"
   ]
  },
  {
   "cell_type": "code",
   "execution_count": null,
   "metadata": {},
   "outputs": [],
   "source": []
  }
 ],
 "metadata": {
  "kernelspec": {
   "display_name": "Python 3",
   "language": "python",
   "name": "python3"
  },
  "language_info": {
   "codemirror_mode": {
    "name": "ipython",
    "version": 3
   },
   "file_extension": ".py",
   "mimetype": "text/x-python",
   "name": "python",
   "nbconvert_exporter": "python",
   "pygments_lexer": "ipython3",
   "version": "3.7.1"
  }
 },
 "nbformat": 4,
 "nbformat_minor": 2
}
