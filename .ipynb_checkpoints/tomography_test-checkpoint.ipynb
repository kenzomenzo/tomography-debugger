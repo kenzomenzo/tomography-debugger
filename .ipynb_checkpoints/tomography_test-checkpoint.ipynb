{
 "cells": [
  {
   "cell_type": "markdown",
   "metadata": {},
   "source": [
    "# CS269Q Tomography Debugger Project\n",
    "State tomography involves measuring a quantum state repeatedly in the bases given by `itertools.product(['X', 'Y', 'Z], repeat=n_qubits)`. From these measurements, we can reconstruct a density matrix $\\rho$. In this project we set out to create a debugging tool to perform state tomography. This project had two parts. The first was constructing a debuggin interface. We decided that our debugger would take the form of a function that could be called on a program and a list of qubits, and would then run tomography algorithms and output a density matrix. The second was choosing an appropriate advanced algorithm to perform state tomography. Since both linear inversion and MLE had already been implemented in the forest benchmarking tomography file (and since Bayesian estimates are apparently \"formidable\" for quantum states!), we decided to go with matrix completion/compressed sensing methods."
   ]
  },
  {
   "cell_type": "markdown",
   "metadata": {},
   "source": [
    "# Relevant Papers & Resources:\n",
    "\n",
    "[Final Project Instructions](https://cs269q.stanford.edu/hw_and_proj/final_project.pdf)\n",
    "\n",
    "[Ultra jank state tomography from lecture 6](https://cs269q.stanford.edu/lectures/lecture6.pdf)\n",
    "\n",
    "[Quantum state tomography via compressed sensing](https://arxiv.org/pdf/0909.3304.pdf)\n",
    "\n",
    "[NMR Techniques for Quantum Control and Computation](https://arxiv.org/pdf/quant-ph/0404064.pdf)\n",
    "\n",
    "[Efficient quantum state tomography](https://www.nature.com/articles/ncomms1147.pdf)\n",
    "\n",
    "[Quantum Tomography via Compressed Sensing: Error Bounds, Sample Complexity, and Efficient Estimators](https://arxiv.org/pdf/1205.2300.pdf)\n",
    "\n",
    "[Quantum Tomography Wikipedia](https://en.wikipedia.org/wiki/Quantum_tomography#Linear_inversion)\n",
    "\n",
    "[Forest Benchmarking tomograph.py](https://github.com/rigetti/forest-benchmarking/blob/master/forest/benchmarking/tomography.py)\n",
    "\n",
    "[PyQuil operator-estimation.py](https://github.com/rigetti/pyquil/blob/master/pyquil/operator_estimation.py)\n",
    "\n",
    "[Initialization and characterization of open quantum systems](https://uwspace.uwaterloo.ca/bitstream/handle/10012/9557/wood_christopher.pdf?sequence=3&isAllowed=y) (section 3.4)\n"
   ]
  },
  {
   "cell_type": "markdown",
   "metadata": {},
   "source": [
    "## TO DO:\n",
    "\n",
    "<input type=\"checkbox\"> Get basic debugging function working with linear inversion\n",
    "\n",
    "<input type=\"checkbox\"> Make sure we have the most recent version of forest sdk - seems like files on github are different from the sdk we have!\n",
    "\n",
    "<input type=\"checkbox\"> Program the compressed sensing algorithm from [Quantum state tomography via compressed sensing](https://arxiv.org/pdf/0909.3304.pdf)\n",
    "\n",
    "<input type=\"checkbox\"> Decide if we want to program a second tomography algorithm\n",
    "\n",
    "<input type=\"checkbox\"> Figure out exactly how the debugger will work! Will it just be a function?\n",
    "\n",
    "<input type=\"checkbox\"> Profile the characteristics of our tomography debugger when faced with noise!\n",
    "\n",
    "<input type=\"checkbox\"> Change the debugger class to take a qc as an input? Then it can run any program that is given to it on a qvm or a qpu (which is desired functionality!)\n",
    "\n",
    "<input type=\"checkbox\"> Write final report"
   ]
  },
  {
   "cell_type": "code",
   "execution_count": 1,
   "metadata": {},
   "outputs": [],
   "source": [
    "import numpy as np\n",
    "import imp\n",
    "from pyquil import Program, get_qc\n",
    "from pyquil.gates import *\n",
    "from forest.benchmarking.tomography import *\n",
    "from pyquil.operator_estimation import *\n",
    "from forest.benchmarking.compilation import basic_compile\n",
    "from scipy.optimize import minimize\n",
    "import random\n",
    "\n",
    "from typing import Union, List\n",
    "\n",
    "from pyquil.gate_matrices import SWAP, QUANTUM_GATES, STATES\n",
    "from pyquil.operator_estimation import TensorProductState\n",
    "from pyquil.paulis import PauliSum, PauliTerm\n",
    "from pyquil.quilbase import Gate\n",
    "\n",
    "import cvxpy as cp\n",
    "\n",
    "from pyquil.operator_estimation import TomographyExperiment as PyQuilTomographyExperiment"
   ]
  },
  {
   "cell_type": "markdown",
   "metadata": {},
   "source": [
    "## Tomography Debugger Class\n",
    "This class provides a single method which takes in a program and a list of qubit indices to tomographize and returns the corresponding density matrix."
   ]
  },
  {
   "cell_type": "code",
   "execution_count": 285,
   "metadata": {},
   "outputs": [],
   "source": [
    "class TomographyDebugger:\n",
    "    def __init__(self):\n",
    "        pass\n",
    "\n",
    "    def generate_rho(self, t_type, m, results: List[ExperimentResult], qubits: List[int]):\n",
    "        qubit_num = len(qubits)\n",
    "        d = 2 ** qubit_num\n",
    "        pauli_list = []\n",
    "        expectation_list = []\n",
    "        y = np.zeros((m,1))\n",
    "\n",
    "        if t_type == \"lasso\":\n",
    "\n",
    "            mu = 4 * m / np.sqrt(1000 * m)\n",
    "                    \n",
    "            for i in range(m):\n",
    "                #Convert the Pauli term into a tensor\n",
    "                r = results[i]\n",
    "                p_tensor = lifted_pauli(r.setting.out_operator, qubits)\n",
    "                e = r.expectation\n",
    "                y[i] = e\n",
    "                pauli_list.append(p_tensor)\n",
    "                expectation_list.append(e)\n",
    "            \n",
    "            x = cp.Variable((d,d),complex = True)\n",
    "            A = cp.vstack([cp.trace(cp.matmul(pauli_list[i], x)) * np.sqrt(d / m) for i in range(m)])\n",
    "            \n",
    "            #Minimize trace norm\n",
    "            obj = cp.Minimize(0.5 * cp.norm((A - y), 2) + mu * cp.norm(x, 'nuc'))\n",
    "            constraints = [cp.trace(x) == 1]\n",
    "\n",
    "            # Form and solve problem.\n",
    "            prob = cp.Problem(obj, constraints)\n",
    "            prob.solve()\n",
    "            rho = x.value\n",
    "\n",
    "            return rho\n",
    "            \n",
    "        if t_type == 'compressed':\n",
    "            for i in range(m):\n",
    "                #Convert the Pauli term into a tensor\n",
    "                r = results[i]\n",
    "                p_tensor = lifted_pauli(r.setting.out_operator, qubits)\n",
    "                e = r.expectation\n",
    "                pauli_list.append(p_tensor)\n",
    "                expectation_list.append(e)\n",
    "                \n",
    "            s = cp.Variable((d,d),complex = True)\n",
    "        \n",
    "            obj = cp.Minimize(cp.norm(s, 'nuc'))\n",
    "            constraints = [cp.trace(s) == 1]\n",
    "            \n",
    "            for i in range(len(pauli_list)):\n",
    "                trace_bool = cp.trace(cp.matmul(pauli_list[i], s)) - expectation_list[i] == 0\n",
    "                constraints.append(trace_bool)\n",
    "\n",
    "            # Form and solve problem.\n",
    "            prob = cp.Problem(obj, constraints)\n",
    "            prob.solve()\n",
    "            rho = s.value\n",
    "\n",
    "            return rho\n",
    "        \n",
    "        elif t_type == \"linear_inv\":\n",
    "            return linear_inv_state_estimate(results=results, qubits=qubits)\n",
    "\n",
    "    def tomographize(self, t_type, m, program: Program, qubits: List[int], num_shots=1000):\n",
    "        #Generate experiments\n",
    "        qubit_experiments = generate_state_tomography_experiment(program=program, qubits=qubits)\n",
    "        \n",
    "        exp_list = []\n",
    "        #Experiment holds all 2^n possible pauli matrices for the given number of qubits\n",
    "        #Now take m random pauli matrices as per the paper's advice\n",
    "        if (m > len(qubit_experiments)):\n",
    "            print(\"Cannot sample more Pauli matrices thatn d^2!\")\n",
    "            return None\n",
    "        exp_list = random.sample(list(qubit_experiments), m)\n",
    "        \n",
    "        input_exp = PyQuilTomographyExperiment(settings=exp_list, program=program)\n",
    "\n",
    "        #NOTE: Change qvm depending on whether we are simulating qvm\n",
    "        qc = get_qc('%dq-qvm' % len(qubits))\n",
    "        qc.compiler.quil_to_native_quil = basic_compile\n",
    "        \n",
    "        #Group experiments if possible to minimize QPU runs\n",
    "        input_exp = group_experiments(input_exp)\n",
    "\n",
    "        results = list(measure_observables(qc=qc, tomo_experiment=input_exp, n_shots=num_shots))\n",
    "\n",
    "        rho = self.generate_rho(t_type, m, results=results, qubits=qubits)\n",
    "        return rho"
   ]
  },
  {
   "cell_type": "markdown",
   "metadata": {},
   "source": [
    "## Construct a state with a `Program`\n",
    "We'll construct a two-qubit graph state by Hadamarding all qubits and then applying a controlled-Z operation across edges of our graph. In the two-qubit case, there's only one edge. "
   ]
  },
  {
   "cell_type": "code",
   "execution_count": 291,
   "metadata": {},
   "outputs": [
    {
     "name": "stdout",
     "output_type": "stream",
     "text": [
      "H 0\n",
      "H 1\n",
      "H 2\n",
      "CZ 0 2\n",
      "RY(-pi/2) 0\n",
      "X 2\n",
      "CNOT 1 2\n",
      "\n"
     ]
    }
   ],
   "source": [
    "qubits = [0, 1, 2]\n",
    "\n",
    "program = Program()\n",
    "for qubit in qubits:\n",
    "    program += H(qubit)\n",
    "program += CZ(qubits[0], qubits[2])\n",
    "program += RY(-np.pi/2, qubits[0])\n",
    "program += X(qubits[2])\n",
    "program += CNOT(qubits[1], qubits[2])\n",
    "\n",
    "print(program)"
   ]
  },
  {
   "cell_type": "markdown",
   "metadata": {},
   "source": [
    "## Run the tomography debugger and print output"
   ]
  },
  {
   "cell_type": "code",
   "execution_count": 296,
   "metadata": {},
   "outputs": [
    {
     "name": "stdout",
     "output_type": "stream",
     "text": [
      "[[-1.00000000e-03+1.50316988e-17j  3.75000000e-03-4.75000000e-03j\n",
      "   7.50000000e-04+4.25000000e-03j  7.25000000e-03-5.29655081e-17j\n",
      "   1.00000000e-02+1.00000000e-02j -1.16250000e-01+6.25000000e-03j\n",
      "  -1.75000000e-03+6.00000000e-03j -9.25000000e-03+5.77658925e-17j]\n",
      " [ 3.75000000e-03+4.75000000e-03j  2.51000000e-01-2.68607990e-18j\n",
      "  -2.45250000e-01+1.93558882e-17j -1.37500000e-02+2.75000000e-03j\n",
      "  -1.28250000e-01+2.25000000e-03j  1.50000000e-03-1.05000000e-02j\n",
      "  -7.50000000e-04+8.28854092e-18j -1.75000000e-03+6.00000000e-03j]\n",
      " [ 7.50000000e-04-4.25000000e-03j -2.45250000e-01+2.64324762e-17j\n",
      "   2.46500000e-01-1.39580405e-17j  3.75000000e-03+4.75000000e-03j\n",
      "   1.75000000e-03-6.00000000e-03j -9.25000000e-03+5.77658925e-17j\n",
      "  -9.00000000e-03+2.50000000e-03j -1.21750000e-01+6.25000000e-03j]\n",
      " [ 7.25000000e-03-5.54858143e-17j -1.37500000e-02-2.75000000e-03j\n",
      "   3.75000000e-03-4.75000000e-03j  3.50000000e-03-2.79721609e-18j\n",
      "  -7.50000000e-04+8.28854092e-18j  1.75000000e-03-6.00000000e-03j\n",
      "  -1.33750000e-01+2.25000000e-03j -1.75000000e-02-3.00000000e-03j]\n",
      " [ 1.00000000e-02-1.00000000e-02j -1.28250000e-01-2.25000000e-03j\n",
      "   1.75000000e-03+6.00000000e-03j -7.50000000e-04+7.31015688e-18j\n",
      "   2.52500000e-01+2.05209498e-17j  3.75000000e-03-4.75000000e-03j\n",
      "  -1.27500000e-02-2.75000000e-03j -2.54750000e-01-4.74135544e-17j]\n",
      " [-1.16250000e-01-6.25000000e-03j  1.50000000e-03+1.05000000e-02j\n",
      "  -9.25000000e-03+5.80961439e-17j  1.75000000e-03+6.00000000e-03j\n",
      "   3.75000000e-03+4.75000000e-03j -2.50000000e-03-1.97915226e-17j\n",
      "  -7.25000000e-03+3.22236181e-17j  1.75000000e-03-4.25000000e-03j]\n",
      " [-1.75000000e-03-6.00000000e-03j -7.50000000e-04-7.11349574e-18j\n",
      "  -9.00000000e-03-2.50000000e-03j -1.33750000e-01-2.25000000e-03j\n",
      "  -1.27500000e-02+2.75000000e-03j -7.25000000e-03+3.22236181e-17j\n",
      "   4.65201202e-17-1.53253352e-17j  3.75000000e-03+4.75000000e-03j]\n",
      " [-9.25000000e-03+3.40925448e-17j -1.75000000e-03-6.00000000e-03j\n",
      "  -1.21750000e-01-6.25000000e-03j -1.75000000e-02+3.00000000e-03j\n",
      "  -2.54750000e-01-4.74135544e-17j  1.75000000e-03+4.25000000e-03j\n",
      "   3.75000000e-03-4.75000000e-03j  2.50000000e-01+1.96716608e-17j]]\n",
      "Recovered compressed density matrix:\n",
      "\n",
      "[[ 0.00207392+6.86046061e-17j -0.0152056 +3.75091767e-04j\n",
      "  -0.00964571+1.37619232e-07j  0.00199474+4.48129506e-03j\n",
      "   0.01188857-1.88330054e-02j  0.01121741-2.60540223e-03j\n",
      "  -0.00361355-3.50580631e-03j  0.00408784-1.21311302e-02j]\n",
      " [-0.0152056 -3.75091767e-04j  0.22641758-8.52572149e-17j\n",
      "   0.056841  -1.20802579e-02j -0.00314598-3.49989469e-03j\n",
      "  -0.23978382+3.08020595e-02j -0.01581233+1.58343936e-02j\n",
      "  -0.0055399 -6.36756616e-03j -0.07979097+8.26555026e-03j]\n",
      " [-0.00964571-1.37619232e-07j  0.056841  +1.20802579e-02j\n",
      "   0.25085015-8.64567553e-17j  0.01006463+5.22024105e-03j\n",
      "  -0.03243075-1.38382425e-02j -0.01296133+7.12945409e-03j\n",
      "   0.00725168-1.31672378e-02j -0.24633868+4.79071932e-02j]\n",
      " [ 0.00199474-4.48129506e-03j -0.00314598+3.49989469e-03j\n",
      "   0.01006463-5.22024105e-03j -0.00449322-7.89379169e-17j\n",
      "  -0.0045874 -3.63006410e-03j -0.00097319+3.38559268e-03j\n",
      "   0.00266155+2.49880785e-03j -0.00945171+1.21674351e-02j]\n",
      " [ 0.01188857+1.88330054e-02j -0.23978382-3.08020595e-02j\n",
      "  -0.03243075+1.38382425e-02j -0.0045874 +3.63006410e-03j\n",
      "   0.2651531 +1.23650309e-16j  0.00998213+1.06002945e-03j\n",
      "  -0.00135431-3.99903392e-03j  0.07134189+1.45788755e-02j]\n",
      " [ 0.01121741+2.60540223e-03j -0.01581233-1.58343936e-02j\n",
      "  -0.01296133-7.12945409e-03j -0.00097319-3.38559268e-03j\n",
      "   0.00998213-1.06002945e-03j  0.00449593+1.17948900e-16j\n",
      "  -0.00750519+6.01768557e-03j  0.00714565+5.00799959e-04j]\n",
      " [-0.00361355+3.50580631e-03j -0.0055399 +6.36756616e-03j\n",
      "   0.00725168+1.31672378e-02j  0.00266155-2.49880785e-03j\n",
      "  -0.00135431+3.99903392e-03j -0.00750519-6.01768557e-03j\n",
      "  -0.00207675+2.67409954e-17j -0.01012256+1.53754555e-03j]\n",
      " [ 0.00408784+1.21311302e-02j -0.07979097-8.26555026e-03j\n",
      "  -0.24633868-4.79071932e-02j -0.00945171-1.21674351e-02j\n",
      "   0.07134189-1.45788755e-02j  0.00714565-5.00799959e-04j\n",
      "  -0.01012256-1.53754555e-03j  0.25758369+2.12616755e-16j]]\n",
      "Recovered lasso density matrix:\n",
      "\n",
      "[[ 0.14181732+4.81504476e-16j -0.00486665-2.80024973e-03j\n",
      "   0.00924424+1.10889214e-02j  0.15766062-4.59707845e-04j\n",
      "   0.01592682-1.09910848e-03j  0.15795342-4.52748497e-03j\n",
      "   0.15710604-3.76202875e-04j -0.01997014+2.86218211e-03j]\n",
      " [-0.00486665+2.80024973e-03j  0.07086301-1.28674644e-15j\n",
      "  -0.07821476-3.95988145e-03j -0.00746525+4.99635521e-03j\n",
      "  -0.07892358+3.10817931e-04j -0.00408764+3.60089768e-03j\n",
      "  -0.00612058-3.61140324e-03j  0.07696879-2.79138710e-03j]\n",
      " [ 0.00924424-1.10889214e-02j -0.07821476+3.95988145e-03j\n",
      "   0.08709878-2.78890505e-16j  0.0124059 -1.44843569e-02j\n",
      "   0.08717326-5.45070065e-03j  0.00853388-1.29069286e-02j\n",
      "   0.01134658-4.91920989e-03j -0.08489689+8.33748353e-03j]\n",
      " [ 0.15766062+4.59707845e-04j -0.00746525-4.99635521e-03j\n",
      "   0.0124059 +1.44843569e-02j  0.1752877 -3.77982544e-16j\n",
      "   0.02002205+8.87229202e-04j  0.17553912-4.56555744e-03j\n",
      "   0.17444383+3.11243174e-04j -0.02452429+1.18160855e-03j]\n",
      " [ 0.01592682+1.09910848e-03j -0.07892358-3.10817931e-04j\n",
      "   0.08717326+5.45070065e-03j  0.02002205-8.87229202e-04j\n",
      "   0.08879027+4.10943357e-16j  0.01642666+3.86187134e-04j\n",
      "   0.01851974+8.67014994e-03j -0.08699966+2.75808934e-03j]\n",
      " [ 0.15795342+4.52748497e-03j -0.00408764-3.60089768e-03j\n",
      "   0.00853388+1.29069286e-02j  0.17553912+4.56555744e-03j\n",
      "   0.01642666-3.86187134e-04j  0.17606959+1.69592329e-16j\n",
      "   0.1749034 +4.48591875e-03j -0.02100451+2.17182956e-03j]\n",
      " [ 0.15710604+3.76202875e-04j -0.00612058+3.61140324e-03j\n",
      "   0.01134658+4.91920989e-03j  0.17444383-3.11243174e-04j\n",
      "   0.01851974-8.67014994e-03j  0.1749034 -4.48591875e-03j\n",
      "   0.17465446+1.37976963e-15j -0.02273391+1.04504471e-02j]\n",
      " [-0.01997014-2.86218211e-03j  0.07696879+2.79138710e-03j\n",
      "  -0.08489689-8.33748353e-03j -0.02452429-1.18160855e-03j\n",
      "  -0.08699966-2.75808934e-03j -0.02100451-2.17182956e-03j\n",
      "  -0.02273391-1.04504471e-02j  0.08541101-5.43964199e-16j]]\n"
     ]
    }
   ],
   "source": [
    "m = 32\n",
    "\n",
    "debugger = TomographyDebugger()\n",
    "rho_linear = debugger.tomographize(\"linear_inv\", m, program, qubits)\n",
    "print(rho_linear)\n",
    "\n",
    "rho_compressed = debugger.tomographize(\"compressed\", m, program, qubits)\n",
    "print(\"Recovered compressed density matrix:\\n\")\n",
    "print(rho_compressed)\n",
    "\n",
    "rho_lasso = debugger.tomographize(\"lasso\", m, program, qubits)\n",
    "print(\"Recovered lasso density matrix:\\n\")\n",
    "print(rho_lasso)"
   ]
  },
  {
   "cell_type": "markdown",
   "metadata": {},
   "source": [
    "## Compare results to true output obtained using wavefunction simulator"
   ]
  },
  {
   "cell_type": "code",
   "execution_count": 297,
   "metadata": {},
   "outputs": [
    {
     "name": "stdout",
     "output_type": "stream",
     "text": [
      "[[ 0.  +0.j -0.  -0.j  0.  +0.j  0.  +0.j  0.  +0.j  0.  +0.j  0.  +0.j\n",
      "  -0.  -0.j]\n",
      " [-0.  +0.j  0.25+0.j -0.25+0.j -0.  +0.j -0.25+0.j -0.  +0.j -0.  +0.j\n",
      "   0.25+0.j]\n",
      " [ 0.  +0.j -0.25-0.j  0.25+0.j  0.  +0.j  0.25+0.j  0.  +0.j  0.  +0.j\n",
      "  -0.25-0.j]\n",
      " [ 0.  +0.j -0.  -0.j  0.  +0.j  0.  +0.j  0.  +0.j  0.  +0.j  0.  +0.j\n",
      "  -0.  -0.j]\n",
      " [ 0.  +0.j -0.25-0.j  0.25+0.j  0.  +0.j  0.25+0.j  0.  +0.j  0.  +0.j\n",
      "  -0.25-0.j]\n",
      " [ 0.  +0.j -0.  -0.j  0.  +0.j  0.  +0.j  0.  +0.j  0.  +0.j  0.  +0.j\n",
      "  -0.  -0.j]\n",
      " [ 0.  +0.j -0.  -0.j  0.  +0.j  0.  +0.j  0.  +0.j  0.  +0.j  0.  +0.j\n",
      "  -0.  -0.j]\n",
      " [-0.  +0.j  0.25+0.j -0.25+0.j -0.  +0.j -0.25+0.j -0.  +0.j -0.  +0.j\n",
      "   0.25+0.j]]\n"
     ]
    }
   ],
   "source": [
    "from pyquil.api import WavefunctionSimulator\n",
    "wf_sim = WavefunctionSimulator()\n",
    "wf = wf_sim.wavefunction(program)\n",
    "psi = wf.amplitudes\n",
    "\n",
    "rho_true = np.outer(psi, psi.T.conj())\n",
    "print(np.around(rho_true, decimals=3))"
   ]
  },
  {
   "cell_type": "markdown",
   "metadata": {},
   "source": [
    "## Visualize using Hinton plots"
   ]
  },
  {
   "cell_type": "code",
   "execution_count": 298,
   "metadata": {},
   "outputs": [
    {
     "data": {
      "image/png": "[encoded data removed]",
      "text/plain": [
       "<Figure size 432x288 with 4 Axes>"
      ]
     },
     "metadata": {},
     "output_type": "display_data"
    }
   ],
   "source": [
    "from matplotlib import pyplot as plt\n",
    "from forest.benchmarking.plotting import hinton\n",
    "fig, (ax1, ax2, ax3, ax4) = plt.subplots(1, 4)\n",
    "hinton(rho_true, ax=ax1)\n",
    "hinton(rho_linear, ax=ax2)\n",
    "hinton(rho_compressed, ax=ax3)\n",
    "hinton(rho_lasso, ax=ax4)\n",
    "ax1.set_title('Ground Truth')\n",
    "ax2.set_title('Linear')\n",
    "ax3.set_title('Compressed')\n",
    "ax4.set_title('Lasso')\n",
    "fig.tight_layout()"
   ]
  },
  {
   "cell_type": "markdown",
   "metadata": {},
   "source": [
    "## Calculate matrix norm between true and estimated rho"
   ]
  },
  {
   "cell_type": "code",
   "execution_count": 299,
   "metadata": {},
   "outputs": [
    {
     "name": "stdout",
     "output_type": "stream",
     "text": [
      "Linear norm:\n",
      "0.6156764572403265\n",
      "Compressed norm:\n",
      "0.8869792063111139\n",
      "Lasso norm:\n",
      "0.9509800807060472\n"
     ]
    }
   ],
   "source": [
    "print(\"Linear norm:\")\n",
    "print(np.linalg.norm(rho_linear - rho_true))\n",
    "print(\"Compressed norm:\")\n",
    "print(np.linalg.norm(rho_compressed - rho_true))\n",
    "print(\"Lasso norm:\")\n",
    "print(np.linalg.norm(rho_lasso - rho_true))"
   ]
  },
  {
   "cell_type": "markdown",
   "metadata": {},
   "source": [
    "## Plot graph of results for various measurement values"
   ]
  },
  {
   "cell_type": "code",
   "execution_count": 283,
   "metadata": {},
   "outputs": [
    {
     "name": "stdout",
     "output_type": "stream",
     "text": [
      "Analyzing performance of tomography algorithms on program:\n",
      "H 0\n",
      "H 1\n",
      "CZ 0 1\n",
      "RY(-pi/2) 0\n",
      "X 1\n",
      "CNOT 1 0\n",
      "\n",
      "Running iteration 1/15\n",
      "Running iteration 2/15\n",
      "Running iteration 3/15\n",
      "Running iteration 4/15\n",
      "Running iteration 5/15\n",
      "Running iteration 6/15\n",
      "Running iteration 7/15\n",
      "Running iteration 8/15\n",
      "Running iteration 9/15\n",
      "Running iteration 10/15\n",
      "Running iteration 11/15\n",
      "Running iteration 12/15\n",
      "Running iteration 13/15\n",
      "Running iteration 14/15\n",
      "Running iteration 15/15\n"
     ]
    },
    {
     "data": {
      "image/png": "[encoded data removed]",
      "text/plain": [
       "<Figure size 432x288 with 1 Axes>"
      ]
     },
     "metadata": {
      "needs_background": "light"
     },
     "output_type": "display_data"
    }
   ],
   "source": [
    "import matplotlib.pyplot as plt\n",
    "\n",
    "#max_pauli_num = 4 ** len(qubits)\n",
    "#max_pauli_num = 2\n",
    "num_trials = 10\n",
    "\n",
    "linear_norms = {}\n",
    "linear_norms['vals'] = []\n",
    "linear_norms['stds'] = []\n",
    "compressed_norms = {}\n",
    "compressed_norms['vals'] = []\n",
    "compressed_norms['stds'] = []\n",
    "lasso_norms = {}\n",
    "lasso_norms['vals'] = []\n",
    "lasso_norms['stds'] = []\n",
    "\n",
    "print(\"Analyzing performance of tomography algorithms on program:\")\n",
    "print(program)\n",
    "\n",
    "x = [i * 8 for i in range(1, 8)]\n",
    "\n",
    "for i in x:\n",
    "    print(\"Running iteration for pauli number: %d\" % i)\n",
    "    linear_vec = np.zeros((num_trials))\n",
    "    compressed_vec = np.zeros((num_trials))\n",
    "    lasso_vec = np.zeros((num_trials))\n",
    "    for j in range(num_trials):\n",
    "        rho_linear = debugger.tomographize(\"linear_inv\", i, program, qubits)\n",
    "        rho_compressed = debugger.tomographize(\"compressed\", i, program, qubits)\n",
    "        rho_lasso = debugger.tomographize(\"lasso\", i, program, qubits)\n",
    "        \n",
    "        linear_vec[j] = np.linalg.norm(rho_linear - rho_true)\n",
    "        compressed_vec[j] = np.linalg.norm(rho_compressed - rho_true)\n",
    "        lasso_vec[j] = np.linalg.norm(rho_lasso - rho_true)\n",
    "    \n",
    "    linear_norms['vals'].append(np.mean(linear_vec))\n",
    "    linear_norms['stds'].append(np.std(linear_vec))\n",
    "    compressed_norms['vals'].append(np.mean(compressed_vec))\n",
    "    compressed_norms['stds'].append(np.std(compressed_vec))\n",
    "    lasso_norms['vals'].append(np.mean(lasso_vec))\n",
    "    lasso_norms['stds'].append(np.std(lasso_vec))\n",
    "\n",
    "plt.errorbar(x, linear_norms['vals'], linear_norms['stds'], marker='^', label='linear')\n",
    "plt.errorbar(x, compressed_norms['vals'], compressed_norms['stds'], marker='^', label='compressed')\n",
    "plt.errorbar(x, lasso_norms['vals'], lasso_norms['stds'], marker='^', label='lasso')\n",
    "plt.legend()\n",
    "plt.show()"
   ]
  },
  {
   "cell_type": "code",
   "execution_count": null,
   "metadata": {},
   "outputs": [],
   "source": []
  }
 ],
 "metadata": {
  "kernelspec": {
   "display_name": "Python 3",
   "language": "python",
   "name": "python3"
  },
  "language_info": {
   "codemirror_mode": {
    "name": "ipython",
    "version": 3
   },
   "file_extension": ".py",
   "mimetype": "text/x-python",
   "name": "python",
   "nbconvert_exporter": "python",
   "pygments_lexer": "ipython3",
   "version": "3.7.1"
  }
 },
 "nbformat": 4,
 "nbformat_minor": 2
}
